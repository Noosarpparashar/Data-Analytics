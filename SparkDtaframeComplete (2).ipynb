{
  "nbformat": 4,
  "nbformat_minor": 0,
  "metadata": {
    "colab": {
      "name": "SparkDtaframeComplete.ipynb",
      "provenance": [],
      "collapsed_sections": []
    },
    "kernelspec": {
      "name": "python3",
      "display_name": "Python 3"
    },
    "accelerator": "GPU"
  },
  "cells": [
    {
      "cell_type": "code",
      "metadata": {
        "id": "eDBB6UGbWbM2",
        "colab_type": "code",
        "outputId": "be0c94df-b592-49e4-8df7-e446af0e984c",
        "colab": {
          "base_uri": "https://localhost:8080/",
          "height": 258
        }
      },
      "source": [
        "!pip install pyspark"
      ],
      "execution_count": 10,
      "outputs": [
        {
          "output_type": "stream",
          "text": [
            "Collecting pyspark\n",
            "\u001b[?25l  Downloading https://files.pythonhosted.org/packages/87/21/f05c186f4ddb01d15d0ddc36ef4b7e3cedbeb6412274a41f26b55a650ee5/pyspark-2.4.4.tar.gz (215.7MB)\n",
            "\u001b[K     |████████████████████████████████| 215.7MB 36kB/s \n",
            "\u001b[?25hCollecting py4j==0.10.7\n",
            "\u001b[?25l  Downloading https://files.pythonhosted.org/packages/e3/53/c737818eb9a7dc32a7cd4f1396e787bd94200c3997c72c1dbe028587bd76/py4j-0.10.7-py2.py3-none-any.whl (197kB)\n",
            "\u001b[K     |████████████████████████████████| 204kB 62.0MB/s \n",
            "\u001b[?25hBuilding wheels for collected packages: pyspark\n",
            "  Building wheel for pyspark (setup.py) ... \u001b[?25l\u001b[?25hdone\n",
            "  Created wheel for pyspark: filename=pyspark-2.4.4-py2.py3-none-any.whl size=216130387 sha256=e097070d73c87b519a6c2c090c342c99e4e7f87213160c9145aba74494aa2a93\n",
            "  Stored in directory: /root/.cache/pip/wheels/ab/09/4d/0d184230058e654eb1b04467dbc1292f00eaa186544604b471\n",
            "Successfully built pyspark\n",
            "Installing collected packages: py4j, pyspark\n",
            "Successfully installed py4j-0.10.7 pyspark-2.4.4\n"
          ],
          "name": "stdout"
        }
      ]
    },
    {
      "cell_type": "code",
      "metadata": {
        "id": "KIO3ksXQWg6m",
        "colab_type": "code",
        "colab": {}
      },
      "source": [
        "from pyspark.context import SparkContext\n",
        "from pyspark.sql.session import SparkSession\n",
        "sc = SparkContext('local')\n",
        "spark = SparkSession(sc)"
      ],
      "execution_count": 0,
      "outputs": []
    },
    {
      "cell_type": "code",
      "metadata": {
        "id": "O4FXwcGyXulS",
        "colab_type": "code",
        "colab": {}
      },
      "source": [
        ""
      ],
      "execution_count": 0,
      "outputs": []
    },
    {
      "cell_type": "code",
      "metadata": {
        "id": "4v180GQ0_pwj",
        "colab_type": "code",
        "outputId": "e6d8603b-9eaf-40a5-ac52-0ef5f0c0d688",
        "colab": {
          "base_uri": "https://localhost:8080/",
          "height": 122
        }
      },
      "source": [
        "from google.colab import drive\n",
        "drive.mount('/content/drive')"
      ],
      "execution_count": 13,
      "outputs": [
        {
          "output_type": "stream",
          "text": [
            "Go to this URL in a browser: https://accounts.google.com/o/oauth2/auth?client_id=947318989803-6bn6qk8qdgf4n4g3pfee6491hc0brc4i.apps.googleusercontent.com&redirect_uri=urn%3aietf%3awg%3aoauth%3a2.0%3aoob&response_type=code&scope=email%20https%3a%2f%2fwww.googleapis.com%2fauth%2fdocs.test%20https%3a%2f%2fwww.googleapis.com%2fauth%2fdrive%20https%3a%2f%2fwww.googleapis.com%2fauth%2fdrive.photos.readonly%20https%3a%2f%2fwww.googleapis.com%2fauth%2fpeopleapi.readonly\n",
            "\n",
            "Enter your authorization code:\n",
            "··········\n",
            "Mounted at /content/drive\n"
          ],
          "name": "stdout"
        }
      ]
    },
    {
      "cell_type": "markdown",
      "metadata": {
        "id": "HpSS2EVeXwTh",
        "colab_type": "text"
      },
      "source": [
        " **Read file, Infer Schema, Get Header**"
      ]
    },
    {
      "cell_type": "code",
      "metadata": {
        "id": "CyB8QC4BWycU",
        "colab_type": "code",
        "colab": {}
      },
      "source": [
        "df=spark.read.format('csv').options(header='true', inferSchema='true').load('/content/drive/My Drive/top50.csv')\n",
        "#/content/drive/My Drive/top50.csv"
      ],
      "execution_count": 0,
      "outputs": []
    },
    {
      "cell_type": "code",
      "metadata": {
        "id": "Zpzl2T49Xf6T",
        "colab_type": "code",
        "outputId": "53e96b94-3195-4c81-f2e4-fb4db1fa40fc",
        "colab": {
          "base_uri": "https://localhost:8080/",
          "height": 54
        }
      },
      "source": [
        "df.head"
      ],
      "execution_count": 15,
      "outputs": [
        {
          "output_type": "execute_result",
          "data": {
            "text/plain": [
              "<bound method DataFrame.head of DataFrame[Sno: int, Track.Name: string, Artist.Name: string, Genre: string, Beats.Per.Minute: int, Energy: int, Danceability: int, Loudness..dB..: int, Liveness: int, Valence.: int, Length.: int, Acousticness..: int, Speechiness.: int, Popularity: int]>"
            ]
          },
          "metadata": {
            "tags": []
          },
          "execution_count": 15
        }
      ]
    },
    {
      "cell_type": "code",
      "metadata": {
        "id": "bB6oJzGrXjJ8",
        "colab_type": "code",
        "outputId": "70efe57d-6eb1-47eb-dab4-5d7fa910e9f0",
        "colab": {
          "base_uri": "https://localhost:8080/",
          "height": 207
        }
      },
      "source": [
        "df.take(10)"
      ],
      "execution_count": 16,
      "outputs": [
        {
          "output_type": "execute_result",
          "data": {
            "text/plain": [
              "[Row(Sno=1, Track.Name='Se�orita', Artist.Name='Shawn Mendes', Genre='canadian pop', Beats.Per.Minute=117, Energy=55, Danceability=76, Loudness..dB..=-6, Liveness=8, Valence.=75, Length.=191, Acousticness..=4, Speechiness.=3, Popularity=79),\n",
              " Row(Sno=2, Track.Name='China', Artist.Name='Anuel AA', Genre='reggaeton flow', Beats.Per.Minute=105, Energy=81, Danceability=79, Loudness..dB..=-4, Liveness=8, Valence.=61, Length.=302, Acousticness..=8, Speechiness.=9, Popularity=92),\n",
              " Row(Sno=3, Track.Name='boyfriend (with Social House)', Artist.Name='Ariana Grande', Genre='dance pop', Beats.Per.Minute=190, Energy=80, Danceability=40, Loudness..dB..=-4, Liveness=16, Valence.=70, Length.=186, Acousticness..=12, Speechiness.=46, Popularity=85),\n",
              " Row(Sno=4, Track.Name='Beautiful People (feat. Khalid)', Artist.Name='Ed Sheeran', Genre='pop', Beats.Per.Minute=93, Energy=65, Danceability=64, Loudness..dB..=-8, Liveness=8, Valence.=55, Length.=198, Acousticness..=12, Speechiness.=19, Popularity=86),\n",
              " Row(Sno=5, Track.Name='Goodbyes (Feat. Young Thug)', Artist.Name='Post Malone', Genre='dfw rap', Beats.Per.Minute=150, Energy=65, Danceability=58, Loudness..dB..=-4, Liveness=11, Valence.=18, Length.=175, Acousticness..=45, Speechiness.=7, Popularity=94),\n",
              " Row(Sno=6, Track.Name=\"I Don't Care (with Justin Bieber)\", Artist.Name='Ed Sheeran', Genre='pop', Beats.Per.Minute=102, Energy=68, Danceability=80, Loudness..dB..=-5, Liveness=9, Valence.=84, Length.=220, Acousticness..=9, Speechiness.=4, Popularity=84),\n",
              " Row(Sno=7, Track.Name='Ransom', Artist.Name='Lil Tecca', Genre='trap music', Beats.Per.Minute=180, Energy=64, Danceability=75, Loudness..dB..=-6, Liveness=7, Valence.=23, Length.=131, Acousticness..=2, Speechiness.=29, Popularity=92),\n",
              " Row(Sno=8, Track.Name='How Do You Sleep?', Artist.Name='Sam Smith', Genre='pop', Beats.Per.Minute=111, Energy=68, Danceability=48, Loudness..dB..=-5, Liveness=8, Valence.=35, Length.=202, Acousticness..=15, Speechiness.=9, Popularity=90),\n",
              " Row(Sno=9, Track.Name='Old Town Road - Remix', Artist.Name='Lil Nas X', Genre='country rap', Beats.Per.Minute=136, Energy=62, Danceability=88, Loudness..dB..=-6, Liveness=11, Valence.=64, Length.=157, Acousticness..=5, Speechiness.=10, Popularity=87),\n",
              " Row(Sno=10, Track.Name='bad guy', Artist.Name='Billie Eilish', Genre='electropop', Beats.Per.Minute=135, Energy=43, Danceability=70, Loudness..dB..=-11, Liveness=10, Valence.=56, Length.=194, Acousticness..=33, Speechiness.=38, Popularity=95)]"
            ]
          },
          "metadata": {
            "tags": []
          },
          "execution_count": 16
        }
      ]
    },
    {
      "cell_type": "code",
      "metadata": {
        "id": "ZqzGvvo6YYoL",
        "colab_type": "code",
        "outputId": "3a40f0e2-a24b-4d1e-89a8-1ec3fa5191a9",
        "colab": {
          "base_uri": "https://localhost:8080/",
          "height": 54
        }
      },
      "source": [
        "df.show"
      ],
      "execution_count": 17,
      "outputs": [
        {
          "output_type": "execute_result",
          "data": {
            "text/plain": [
              "<bound method DataFrame.show of DataFrame[Sno: int, Track.Name: string, Artist.Name: string, Genre: string, Beats.Per.Minute: int, Energy: int, Danceability: int, Loudness..dB..: int, Liveness: int, Valence.: int, Length.: int, Acousticness..: int, Speechiness.: int, Popularity: int]>"
            ]
          },
          "metadata": {
            "tags": []
          },
          "execution_count": 17
        }
      ]
    },
    {
      "cell_type": "code",
      "metadata": {
        "id": "9lV3htcUYbUt",
        "colab_type": "code",
        "outputId": "4dc1a28d-e14f-4a52-e647-af9e6eda0751",
        "colab": {
          "base_uri": "https://localhost:8080/",
          "height": 34
        }
      },
      "source": [
        "df.count()"
      ],
      "execution_count": 18,
      "outputs": [
        {
          "output_type": "execute_result",
          "data": {
            "text/plain": [
              "50"
            ]
          },
          "metadata": {
            "tags": []
          },
          "execution_count": 18
        }
      ]
    },
    {
      "cell_type": "markdown",
      "metadata": {
        "id": "OL_3EeWqYiVj",
        "colab_type": "text"
      },
      "source": [
        ""
      ]
    },
    {
      "cell_type": "code",
      "metadata": {
        "id": "T_Q_v01aZJ9s",
        "colab_type": "code",
        "outputId": "4b94d247-d6fb-4446-b10d-2bebdc9fea0b",
        "colab": {
          "base_uri": "https://localhost:8080/",
          "height": 54
        }
      },
      "source": [
        "df.head"
      ],
      "execution_count": 19,
      "outputs": [
        {
          "output_type": "execute_result",
          "data": {
            "text/plain": [
              "<bound method DataFrame.head of DataFrame[Sno: int, Track.Name: string, Artist.Name: string, Genre: string, Beats.Per.Minute: int, Energy: int, Danceability: int, Loudness..dB..: int, Liveness: int, Valence.: int, Length.: int, Acousticness..: int, Speechiness.: int, Popularity: int]>"
            ]
          },
          "metadata": {
            "tags": []
          },
          "execution_count": 19
        }
      ]
    },
    {
      "cell_type": "code",
      "metadata": {
        "id": "ccRyx9cZZMG7",
        "colab_type": "code",
        "outputId": "b9d38243-defd-40ee-ae4d-8363e7992099",
        "colab": {
          "base_uri": "https://localhost:8080/",
          "height": 54
        }
      },
      "source": [
        "df.describe"
      ],
      "execution_count": 20,
      "outputs": [
        {
          "output_type": "execute_result",
          "data": {
            "text/plain": [
              "<bound method DataFrame.describe of DataFrame[Sno: int, Track.Name: string, Artist.Name: string, Genre: string, Beats.Per.Minute: int, Energy: int, Danceability: int, Loudness..dB..: int, Liveness: int, Valence.: int, Length.: int, Acousticness..: int, Speechiness.: int, Popularity: int]>"
            ]
          },
          "metadata": {
            "tags": []
          },
          "execution_count": 20
        }
      ]
    },
    {
      "cell_type": "code",
      "metadata": {
        "id": "XhqxxKEwZh6L",
        "colab_type": "code",
        "outputId": "5b646521-2307-455c-b3e7-81a770fc9304",
        "colab": {
          "base_uri": "https://localhost:8080/",
          "height": 255
        }
      },
      "source": [
        "df.columns"
      ],
      "execution_count": 21,
      "outputs": [
        {
          "output_type": "execute_result",
          "data": {
            "text/plain": [
              "['Sno',\n",
              " 'Track.Name',\n",
              " 'Artist.Name',\n",
              " 'Genre',\n",
              " 'Beats.Per.Minute',\n",
              " 'Energy',\n",
              " 'Danceability',\n",
              " 'Loudness..dB..',\n",
              " 'Liveness',\n",
              " 'Valence.',\n",
              " 'Length.',\n",
              " 'Acousticness..',\n",
              " 'Speechiness.',\n",
              " 'Popularity']"
            ]
          },
          "metadata": {
            "tags": []
          },
          "execution_count": 21
        }
      ]
    },
    {
      "cell_type": "code",
      "metadata": {
        "id": "IDkS1w2MZzG8",
        "colab_type": "code",
        "outputId": "2a0109b1-0675-4f10-a0d7-ae5b428e3007",
        "colab": {
          "base_uri": "https://localhost:8080/",
          "height": 34
        }
      },
      "source": [
        "len(df.columns)"
      ],
      "execution_count": 22,
      "outputs": [
        {
          "output_type": "execute_result",
          "data": {
            "text/plain": [
              "14"
            ]
          },
          "metadata": {
            "tags": []
          },
          "execution_count": 22
        }
      ]
    },
    {
      "cell_type": "code",
      "metadata": {
        "id": "ihhh3syvaD83",
        "colab_type": "code",
        "outputId": "6c7dcbe9-b1f9-4c64-fd1a-fc9542ac3624",
        "colab": {
          "base_uri": "https://localhost:8080/",
          "height": 54
        }
      },
      "source": [
        "df.show"
      ],
      "execution_count": 23,
      "outputs": [
        {
          "output_type": "execute_result",
          "data": {
            "text/plain": [
              "<bound method DataFrame.show of DataFrame[Sno: int, Track.Name: string, Artist.Name: string, Genre: string, Beats.Per.Minute: int, Energy: int, Danceability: int, Loudness..dB..: int, Liveness: int, Valence.: int, Length.: int, Acousticness..: int, Speechiness.: int, Popularity: int]>"
            ]
          },
          "metadata": {
            "tags": []
          },
          "execution_count": 23
        }
      ]
    },
    {
      "cell_type": "markdown",
      "metadata": {
        "id": "QsyMZqZXaLeW",
        "colab_type": "text"
      },
      "source": [
        "**See top 20 rows**"
      ]
    },
    {
      "cell_type": "code",
      "metadata": {
        "id": "NJzOuGWlaHGe",
        "colab_type": "code",
        "outputId": "44e4371c-71b9-42bb-b55e-3116b307f536",
        "colab": {
          "base_uri": "https://localhost:8080/",
          "height": 479
        }
      },
      "source": [
        "df.show()"
      ],
      "execution_count": 24,
      "outputs": [
        {
          "output_type": "stream",
          "text": [
            "+---+--------------------+-------------+----------------+----------------+------+------------+--------------+--------+--------+-------+--------------+------------+----------+\n",
            "|Sno|          Track.Name|  Artist.Name|           Genre|Beats.Per.Minute|Energy|Danceability|Loudness..dB..|Liveness|Valence.|Length.|Acousticness..|Speechiness.|Popularity|\n",
            "+---+--------------------+-------------+----------------+----------------+------+------------+--------------+--------+--------+-------+--------------+------------+----------+\n",
            "|  1|            Se�orita| Shawn Mendes|    canadian pop|             117|    55|          76|            -6|       8|      75|    191|             4|           3|        79|\n",
            "|  2|               China|     Anuel AA|  reggaeton flow|             105|    81|          79|            -4|       8|      61|    302|             8|           9|        92|\n",
            "|  3|boyfriend (with S...|Ariana Grande|       dance pop|             190|    80|          40|            -4|      16|      70|    186|            12|          46|        85|\n",
            "|  4|Beautiful People ...|   Ed Sheeran|             pop|              93|    65|          64|            -8|       8|      55|    198|            12|          19|        86|\n",
            "|  5|Goodbyes (Feat. Y...|  Post Malone|         dfw rap|             150|    65|          58|            -4|      11|      18|    175|            45|           7|        94|\n",
            "|  6|I Don't Care (wit...|   Ed Sheeran|             pop|             102|    68|          80|            -5|       9|      84|    220|             9|           4|        84|\n",
            "|  7|              Ransom|    Lil Tecca|      trap music|             180|    64|          75|            -6|       7|      23|    131|             2|          29|        92|\n",
            "|  8|   How Do You Sleep?|    Sam Smith|             pop|             111|    68|          48|            -5|       8|      35|    202|            15|           9|        90|\n",
            "|  9|Old Town Road - R...|    Lil Nas X|     country rap|             136|    62|          88|            -6|      11|      64|    157|             5|          10|        87|\n",
            "| 10|             bad guy|Billie Eilish|      electropop|             135|    43|          70|           -11|      10|      56|    194|            33|          38|        95|\n",
            "| 11|            Callaita|    Bad Bunny|       reggaeton|             176|    62|          61|            -5|      24|      24|    251|            60|          31|        93|\n",
            "| 12|Loco Contigo (fea...|     DJ Snake|       dance pop|              96|    71|          82|            -4|      15|      38|    185|            28|           7|        86|\n",
            "| 13|   Someone You Loved|Lewis Capaldi|             pop|             110|    41|          50|            -6|      11|      45|    182|            75|           3|        88|\n",
            "| 14|  Otro Trago - Remix|         Sech|  panamanian pop|             176|    79|          73|            -2|       6|      76|    288|             7|          20|        87|\n",
            "| 15|Money In The Grav...|        Drake|canadian hip hop|             101|    50|          83|            -4|      12|      10|    205|            10|           5|        92|\n",
            "| 16|No Guidance (feat...|  Chris Brown|       dance pop|              93|    45|          70|            -7|      16|      14|    261|            12|          15|        82|\n",
            "| 17|          LA CANCI�N|     J Balvin|           latin|             176|    65|          75|            -6|      11|      43|    243|            15|          32|        90|\n",
            "| 18|Sunflower - Spide...|  Post Malone|         dfw rap|              90|    48|          76|            -6|       7|      91|    158|            56|           5|        91|\n",
            "| 19|              Lalala|          Y2K|canadian hip hop|             130|    39|          84|            -8|      14|      50|    161|            18|           8|        88|\n",
            "| 20|         Truth Hurts|        Lizzo|     escape room|             158|    62|          72|            -3|      12|      41|    173|            11|          11|        91|\n",
            "+---+--------------------+-------------+----------------+----------------+------+------------+--------------+--------+--------+-------+--------------+------------+----------+\n",
            "only showing top 20 rows\n",
            "\n"
          ],
          "name": "stdout"
        }
      ]
    },
    {
      "cell_type": "code",
      "metadata": {
        "id": "o9Uc6qQ7Z2Vs",
        "colab_type": "code",
        "outputId": "2fa21906-2685-4b1e-eff6-4dab01e9e6b9",
        "colab": {
          "base_uri": "https://localhost:8080/",
          "height": 316
        }
      },
      "source": [
        "\n",
        "\n",
        "df.select([count(when(isnull(c), c)).alias(c) for c in df.columns]).show()\n",
        "\n"
      ],
      "execution_count": 25,
      "outputs": [
        {
          "output_type": "error",
          "ename": "NameError",
          "evalue": "ignored",
          "traceback": [
            "\u001b[0;31m---------------------------------------------------------------------------\u001b[0m",
            "\u001b[0;31mNameError\u001b[0m                                 Traceback (most recent call last)",
            "\u001b[0;32m<ipython-input-25-bbc05f360272>\u001b[0m in \u001b[0;36m<module>\u001b[0;34m()\u001b[0m\n\u001b[1;32m      1\u001b[0m \u001b[0;34m\u001b[0m\u001b[0m\n\u001b[1;32m      2\u001b[0m \u001b[0;34m\u001b[0m\u001b[0m\n\u001b[0;32m----> 3\u001b[0;31m \u001b[0mdf\u001b[0m\u001b[0;34m.\u001b[0m\u001b[0mselect\u001b[0m\u001b[0;34m(\u001b[0m\u001b[0;34m[\u001b[0m\u001b[0mcount\u001b[0m\u001b[0;34m(\u001b[0m\u001b[0mwhen\u001b[0m\u001b[0;34m(\u001b[0m\u001b[0misnull\u001b[0m\u001b[0;34m(\u001b[0m\u001b[0mc\u001b[0m\u001b[0;34m)\u001b[0m\u001b[0;34m,\u001b[0m \u001b[0mc\u001b[0m\u001b[0;34m)\u001b[0m\u001b[0;34m)\u001b[0m\u001b[0;34m.\u001b[0m\u001b[0malias\u001b[0m\u001b[0;34m(\u001b[0m\u001b[0mc\u001b[0m\u001b[0;34m)\u001b[0m \u001b[0;32mfor\u001b[0m \u001b[0mc\u001b[0m \u001b[0;32min\u001b[0m \u001b[0mdf\u001b[0m\u001b[0;34m.\u001b[0m\u001b[0mcolumns\u001b[0m\u001b[0;34m]\u001b[0m\u001b[0;34m)\u001b[0m\u001b[0;34m.\u001b[0m\u001b[0mshow\u001b[0m\u001b[0;34m(\u001b[0m\u001b[0;34m)\u001b[0m\u001b[0;34m\u001b[0m\u001b[0;34m\u001b[0m\u001b[0m\n\u001b[0m\u001b[1;32m      4\u001b[0m \u001b[0;34m\u001b[0m\u001b[0m\n",
            "\u001b[0;32m<ipython-input-25-bbc05f360272>\u001b[0m in \u001b[0;36m<listcomp>\u001b[0;34m(.0)\u001b[0m\n\u001b[1;32m      1\u001b[0m \u001b[0;34m\u001b[0m\u001b[0m\n\u001b[1;32m      2\u001b[0m \u001b[0;34m\u001b[0m\u001b[0m\n\u001b[0;32m----> 3\u001b[0;31m \u001b[0mdf\u001b[0m\u001b[0;34m.\u001b[0m\u001b[0mselect\u001b[0m\u001b[0;34m(\u001b[0m\u001b[0;34m[\u001b[0m\u001b[0mcount\u001b[0m\u001b[0;34m(\u001b[0m\u001b[0mwhen\u001b[0m\u001b[0;34m(\u001b[0m\u001b[0misnull\u001b[0m\u001b[0;34m(\u001b[0m\u001b[0mc\u001b[0m\u001b[0;34m)\u001b[0m\u001b[0;34m,\u001b[0m \u001b[0mc\u001b[0m\u001b[0;34m)\u001b[0m\u001b[0;34m)\u001b[0m\u001b[0;34m.\u001b[0m\u001b[0malias\u001b[0m\u001b[0;34m(\u001b[0m\u001b[0mc\u001b[0m\u001b[0;34m)\u001b[0m \u001b[0;32mfor\u001b[0m \u001b[0mc\u001b[0m \u001b[0;32min\u001b[0m \u001b[0mdf\u001b[0m\u001b[0;34m.\u001b[0m\u001b[0mcolumns\u001b[0m\u001b[0;34m]\u001b[0m\u001b[0;34m)\u001b[0m\u001b[0;34m.\u001b[0m\u001b[0mshow\u001b[0m\u001b[0;34m(\u001b[0m\u001b[0;34m)\u001b[0m\u001b[0;34m\u001b[0m\u001b[0;34m\u001b[0m\u001b[0m\n\u001b[0m\u001b[1;32m      4\u001b[0m \u001b[0;34m\u001b[0m\u001b[0m\n",
            "\u001b[0;31mNameError\u001b[0m: name 'count' is not defined"
          ]
        }
      ]
    },
    {
      "cell_type": "code",
      "metadata": {
        "id": "MDnQg6e6Z6XU",
        "colab_type": "code",
        "colab": {}
      },
      "source": [
        "a=[i.replace(\".\",\"\") for i in df.columns]"
      ],
      "execution_count": 0,
      "outputs": []
    },
    {
      "cell_type": "code",
      "metadata": {
        "id": "TbYtmcuPbiXc",
        "colab_type": "code",
        "outputId": "1ac89130-cc13-4068-fefc-58da625c3cd1",
        "colab": {
          "base_uri": "https://localhost:8080/",
          "height": 255
        }
      },
      "source": [
        "a"
      ],
      "execution_count": 27,
      "outputs": [
        {
          "output_type": "execute_result",
          "data": {
            "text/plain": [
              "['Sno',\n",
              " 'TrackName',\n",
              " 'ArtistName',\n",
              " 'Genre',\n",
              " 'BeatsPerMinute',\n",
              " 'Energy',\n",
              " 'Danceability',\n",
              " 'LoudnessdB',\n",
              " 'Liveness',\n",
              " 'Valence',\n",
              " 'Length',\n",
              " 'Acousticness',\n",
              " 'Speechiness',\n",
              " 'Popularity']"
            ]
          },
          "metadata": {
            "tags": []
          },
          "execution_count": 27
        }
      ]
    },
    {
      "cell_type": "markdown",
      "metadata": {
        "id": "0PfGzvofdu2v",
        "colab_type": "text"
      },
      "source": [
        "**Change to new column names**"
      ]
    },
    {
      "cell_type": "code",
      "metadata": {
        "id": "TKdFOjIDcIv1",
        "colab_type": "code",
        "colab": {}
      },
      "source": [
        "df=df.toDF(*a)"
      ],
      "execution_count": 0,
      "outputs": []
    },
    {
      "cell_type": "code",
      "metadata": {
        "id": "vn_6V5a8dUQk",
        "colab_type": "code",
        "outputId": "0f1a3bf4-7420-49c7-cda5-a01e8d3adac0",
        "colab": {
          "base_uri": "https://localhost:8080/",
          "height": 479
        }
      },
      "source": [
        "df.show()"
      ],
      "execution_count": 29,
      "outputs": [
        {
          "output_type": "stream",
          "text": [
            "+---+--------------------+-------------+----------------+--------------+------+------------+----------+--------+-------+------+------------+-----------+----------+\n",
            "|Sno|           TrackName|   ArtistName|           Genre|BeatsPerMinute|Energy|Danceability|LoudnessdB|Liveness|Valence|Length|Acousticness|Speechiness|Popularity|\n",
            "+---+--------------------+-------------+----------------+--------------+------+------------+----------+--------+-------+------+------------+-----------+----------+\n",
            "|  1|            Se�orita| Shawn Mendes|    canadian pop|           117|    55|          76|        -6|       8|     75|   191|           4|          3|        79|\n",
            "|  2|               China|     Anuel AA|  reggaeton flow|           105|    81|          79|        -4|       8|     61|   302|           8|          9|        92|\n",
            "|  3|boyfriend (with S...|Ariana Grande|       dance pop|           190|    80|          40|        -4|      16|     70|   186|          12|         46|        85|\n",
            "|  4|Beautiful People ...|   Ed Sheeran|             pop|            93|    65|          64|        -8|       8|     55|   198|          12|         19|        86|\n",
            "|  5|Goodbyes (Feat. Y...|  Post Malone|         dfw rap|           150|    65|          58|        -4|      11|     18|   175|          45|          7|        94|\n",
            "|  6|I Don't Care (wit...|   Ed Sheeran|             pop|           102|    68|          80|        -5|       9|     84|   220|           9|          4|        84|\n",
            "|  7|              Ransom|    Lil Tecca|      trap music|           180|    64|          75|        -6|       7|     23|   131|           2|         29|        92|\n",
            "|  8|   How Do You Sleep?|    Sam Smith|             pop|           111|    68|          48|        -5|       8|     35|   202|          15|          9|        90|\n",
            "|  9|Old Town Road - R...|    Lil Nas X|     country rap|           136|    62|          88|        -6|      11|     64|   157|           5|         10|        87|\n",
            "| 10|             bad guy|Billie Eilish|      electropop|           135|    43|          70|       -11|      10|     56|   194|          33|         38|        95|\n",
            "| 11|            Callaita|    Bad Bunny|       reggaeton|           176|    62|          61|        -5|      24|     24|   251|          60|         31|        93|\n",
            "| 12|Loco Contigo (fea...|     DJ Snake|       dance pop|            96|    71|          82|        -4|      15|     38|   185|          28|          7|        86|\n",
            "| 13|   Someone You Loved|Lewis Capaldi|             pop|           110|    41|          50|        -6|      11|     45|   182|          75|          3|        88|\n",
            "| 14|  Otro Trago - Remix|         Sech|  panamanian pop|           176|    79|          73|        -2|       6|     76|   288|           7|         20|        87|\n",
            "| 15|Money In The Grav...|        Drake|canadian hip hop|           101|    50|          83|        -4|      12|     10|   205|          10|          5|        92|\n",
            "| 16|No Guidance (feat...|  Chris Brown|       dance pop|            93|    45|          70|        -7|      16|     14|   261|          12|         15|        82|\n",
            "| 17|          LA CANCI�N|     J Balvin|           latin|           176|    65|          75|        -6|      11|     43|   243|          15|         32|        90|\n",
            "| 18|Sunflower - Spide...|  Post Malone|         dfw rap|            90|    48|          76|        -6|       7|     91|   158|          56|          5|        91|\n",
            "| 19|              Lalala|          Y2K|canadian hip hop|           130|    39|          84|        -8|      14|     50|   161|          18|          8|        88|\n",
            "| 20|         Truth Hurts|        Lizzo|     escape room|           158|    62|          72|        -3|      12|     41|   173|          11|         11|        91|\n",
            "+---+--------------------+-------------+----------------+--------------+------+------------+----------+--------+-------+------+------------+-----------+----------+\n",
            "only showing top 20 rows\n",
            "\n"
          ],
          "name": "stdout"
        }
      ]
    },
    {
      "cell_type": "code",
      "metadata": {
        "id": "i1FzMVUABeHF",
        "colab_type": "code",
        "colab": {}
      },
      "source": [
        "from pyspark.sql.functions import *"
      ],
      "execution_count": 0,
      "outputs": []
    },
    {
      "cell_type": "markdown",
      "metadata": {
        "id": "um6i-wPqetCo",
        "colab_type": "text"
      },
      "source": [
        "**Count no. of null values in each column**"
      ]
    },
    {
      "cell_type": "code",
      "metadata": {
        "id": "rfwT3XTmdVsN",
        "colab_type": "code",
        "outputId": "2d2cc9bd-0eeb-4426-b31f-76a647b13a90",
        "colab": {
          "base_uri": "https://localhost:8080/",
          "height": 119
        }
      },
      "source": [
        "df.select([count(when(isnull(c), c)).alias(c) for c in df.columns]).show()"
      ],
      "execution_count": 31,
      "outputs": [
        {
          "output_type": "stream",
          "text": [
            "+---+---------+----------+-----+--------------+------+------------+----------+--------+-------+------+------------+-----------+----------+\n",
            "|Sno|TrackName|ArtistName|Genre|BeatsPerMinute|Energy|Danceability|LoudnessdB|Liveness|Valence|Length|Acousticness|Speechiness|Popularity|\n",
            "+---+---------+----------+-----+--------------+------+------------+----------+--------+-------+------+------------+-----------+----------+\n",
            "|  0|        0|         0|    0|             0|     0|           0|         0|       0|      0|     0|           0|          0|         0|\n",
            "+---+---------+----------+-----+--------------+------+------------+----------+--------+-------+------+------------+-----------+----------+\n",
            "\n"
          ],
          "name": "stdout"
        }
      ]
    },
    {
      "cell_type": "markdown",
      "metadata": {
        "id": "0zXKphlEjCqv",
        "colab_type": "text"
      },
      "source": [
        "**Show distict values in this column**"
      ]
    },
    {
      "cell_type": "code",
      "metadata": {
        "id": "BjQfPOD5eAKV",
        "colab_type": "code",
        "outputId": "ae235d8b-b546-4a30-fead-75d0f7dc3dec",
        "colab": {
          "base_uri": "https://localhost:8080/",
          "height": 459
        }
      },
      "source": [
        "df.select(\"ArtistName\").distinct().show()"
      ],
      "execution_count": 32,
      "outputs": [
        {
          "output_type": "stream",
          "text": [
            "+----------------+\n",
            "|      ArtistName|\n",
            "+----------------+\n",
            "|       Lil Nas X|\n",
            "|       Ali Gatie|\n",
            "|The Chainsmokers|\n",
            "|     Tones and I|\n",
            "|       Lil Tecca|\n",
            "|    Taylor Swift|\n",
            "|          Maluma|\n",
            "|       Sam Smith|\n",
            "|            Kygo|\n",
            "|         ROSAL�A|\n",
            "|          Khalid|\n",
            "|      Marshmello|\n",
            "|   Ariana Grande|\n",
            "|   Billie Eilish|\n",
            "|    Shawn Mendes|\n",
            "|            Sech|\n",
            "|            Lauv|\n",
            "|       Bad Bunny|\n",
            "|   Lewis Capaldi|\n",
            "|     Jhay Cortez|\n",
            "+----------------+\n",
            "only showing top 20 rows\n",
            "\n"
          ],
          "name": "stdout"
        }
      ]
    },
    {
      "cell_type": "code",
      "metadata": {
        "id": "8KCzqHKlfDsV",
        "colab_type": "code",
        "colab": {}
      },
      "source": [
        "from pyspark.sql.functions import col"
      ],
      "execution_count": 0,
      "outputs": []
    },
    {
      "cell_type": "markdown",
      "metadata": {
        "id": "itZZZVDxjact",
        "colab_type": "text"
      },
      "source": [
        "**Alias/Rename/Change Column Name just for this**"
      ]
    },
    {
      "cell_type": "code",
      "metadata": {
        "id": "atfkQc1PfzYl",
        "colab_type": "code",
        "outputId": "c1987a84-9e4a-4df5-e2de-7de06871a970",
        "colab": {
          "base_uri": "https://localhost:8080/",
          "height": 459
        }
      },
      "source": [
        "\n",
        "df.select(col(\"ArtistName\").alias(\"Distinct_Artists\")).distinct().show()"
      ],
      "execution_count": 34,
      "outputs": [
        {
          "output_type": "stream",
          "text": [
            "+----------------+\n",
            "|Distinct_Artists|\n",
            "+----------------+\n",
            "|       Lil Nas X|\n",
            "|       Ali Gatie|\n",
            "|The Chainsmokers|\n",
            "|     Tones and I|\n",
            "|       Lil Tecca|\n",
            "|    Taylor Swift|\n",
            "|          Maluma|\n",
            "|       Sam Smith|\n",
            "|            Kygo|\n",
            "|         ROSAL�A|\n",
            "|          Khalid|\n",
            "|      Marshmello|\n",
            "|   Ariana Grande|\n",
            "|   Billie Eilish|\n",
            "|    Shawn Mendes|\n",
            "|            Sech|\n",
            "|            Lauv|\n",
            "|       Bad Bunny|\n",
            "|   Lewis Capaldi|\n",
            "|     Jhay Cortez|\n",
            "+----------------+\n",
            "only showing top 20 rows\n",
            "\n"
          ],
          "name": "stdout"
        }
      ]
    },
    {
      "cell_type": "code",
      "metadata": {
        "id": "NHAe8OzPiItP",
        "colab_type": "code",
        "outputId": "c9af5bf1-4f8e-4adf-c6c9-f3662f7b65cc",
        "colab": {
          "base_uri": "https://localhost:8080/",
          "height": 54
        }
      },
      "source": [
        "df.withColumnRenamed('Genre', 'TypeOfMusic')"
      ],
      "execution_count": 35,
      "outputs": [
        {
          "output_type": "execute_result",
          "data": {
            "text/plain": [
              "DataFrame[Sno: int, TrackName: string, ArtistName: string, TypeOfMusic: string, BeatsPerMinute: int, Energy: int, Danceability: int, LoudnessdB: int, Liveness: int, Valence: int, Length: int, Acousticness: int, Speechiness: int, Popularity: int]"
            ]
          },
          "metadata": {
            "tags": []
          },
          "execution_count": 35
        }
      ]
    },
    {
      "cell_type": "code",
      "metadata": {
        "id": "GEFDsoDlil22",
        "colab_type": "code",
        "outputId": "5291fde5-0695-4854-de27-9ffd0debc597",
        "colab": {
          "base_uri": "https://localhost:8080/",
          "height": 479
        }
      },
      "source": [
        "df.show()"
      ],
      "execution_count": 36,
      "outputs": [
        {
          "output_type": "stream",
          "text": [
            "+---+--------------------+-------------+----------------+--------------+------+------------+----------+--------+-------+------+------------+-----------+----------+\n",
            "|Sno|           TrackName|   ArtistName|           Genre|BeatsPerMinute|Energy|Danceability|LoudnessdB|Liveness|Valence|Length|Acousticness|Speechiness|Popularity|\n",
            "+---+--------------------+-------------+----------------+--------------+------+------------+----------+--------+-------+------+------------+-----------+----------+\n",
            "|  1|            Se�orita| Shawn Mendes|    canadian pop|           117|    55|          76|        -6|       8|     75|   191|           4|          3|        79|\n",
            "|  2|               China|     Anuel AA|  reggaeton flow|           105|    81|          79|        -4|       8|     61|   302|           8|          9|        92|\n",
            "|  3|boyfriend (with S...|Ariana Grande|       dance pop|           190|    80|          40|        -4|      16|     70|   186|          12|         46|        85|\n",
            "|  4|Beautiful People ...|   Ed Sheeran|             pop|            93|    65|          64|        -8|       8|     55|   198|          12|         19|        86|\n",
            "|  5|Goodbyes (Feat. Y...|  Post Malone|         dfw rap|           150|    65|          58|        -4|      11|     18|   175|          45|          7|        94|\n",
            "|  6|I Don't Care (wit...|   Ed Sheeran|             pop|           102|    68|          80|        -5|       9|     84|   220|           9|          4|        84|\n",
            "|  7|              Ransom|    Lil Tecca|      trap music|           180|    64|          75|        -6|       7|     23|   131|           2|         29|        92|\n",
            "|  8|   How Do You Sleep?|    Sam Smith|             pop|           111|    68|          48|        -5|       8|     35|   202|          15|          9|        90|\n",
            "|  9|Old Town Road - R...|    Lil Nas X|     country rap|           136|    62|          88|        -6|      11|     64|   157|           5|         10|        87|\n",
            "| 10|             bad guy|Billie Eilish|      electropop|           135|    43|          70|       -11|      10|     56|   194|          33|         38|        95|\n",
            "| 11|            Callaita|    Bad Bunny|       reggaeton|           176|    62|          61|        -5|      24|     24|   251|          60|         31|        93|\n",
            "| 12|Loco Contigo (fea...|     DJ Snake|       dance pop|            96|    71|          82|        -4|      15|     38|   185|          28|          7|        86|\n",
            "| 13|   Someone You Loved|Lewis Capaldi|             pop|           110|    41|          50|        -6|      11|     45|   182|          75|          3|        88|\n",
            "| 14|  Otro Trago - Remix|         Sech|  panamanian pop|           176|    79|          73|        -2|       6|     76|   288|           7|         20|        87|\n",
            "| 15|Money In The Grav...|        Drake|canadian hip hop|           101|    50|          83|        -4|      12|     10|   205|          10|          5|        92|\n",
            "| 16|No Guidance (feat...|  Chris Brown|       dance pop|            93|    45|          70|        -7|      16|     14|   261|          12|         15|        82|\n",
            "| 17|          LA CANCI�N|     J Balvin|           latin|           176|    65|          75|        -6|      11|     43|   243|          15|         32|        90|\n",
            "| 18|Sunflower - Spide...|  Post Malone|         dfw rap|            90|    48|          76|        -6|       7|     91|   158|          56|          5|        91|\n",
            "| 19|              Lalala|          Y2K|canadian hip hop|           130|    39|          84|        -8|      14|     50|   161|          18|          8|        88|\n",
            "| 20|         Truth Hurts|        Lizzo|     escape room|           158|    62|          72|        -3|      12|     41|   173|          11|         11|        91|\n",
            "+---+--------------------+-------------+----------------+--------------+------+------------+----------+--------+-------+------+------------+-----------+----------+\n",
            "only showing top 20 rows\n",
            "\n"
          ],
          "name": "stdout"
        }
      ]
    },
    {
      "cell_type": "code",
      "metadata": {
        "id": "ivr8TZmVioI2",
        "colab_type": "code",
        "outputId": "ec47301b-a0e4-4e68-dd21-feb807ea8125",
        "colab": {
          "base_uri": "https://localhost:8080/",
          "height": 479
        }
      },
      "source": [
        "df.withColumnRenamed('Genre', 'TypeOfMusic').show()"
      ],
      "execution_count": 37,
      "outputs": [
        {
          "output_type": "stream",
          "text": [
            "+---+--------------------+-------------+----------------+--------------+------+------------+----------+--------+-------+------+------------+-----------+----------+\n",
            "|Sno|           TrackName|   ArtistName|     TypeOfMusic|BeatsPerMinute|Energy|Danceability|LoudnessdB|Liveness|Valence|Length|Acousticness|Speechiness|Popularity|\n",
            "+---+--------------------+-------------+----------------+--------------+------+------------+----------+--------+-------+------+------------+-----------+----------+\n",
            "|  1|            Se�orita| Shawn Mendes|    canadian pop|           117|    55|          76|        -6|       8|     75|   191|           4|          3|        79|\n",
            "|  2|               China|     Anuel AA|  reggaeton flow|           105|    81|          79|        -4|       8|     61|   302|           8|          9|        92|\n",
            "|  3|boyfriend (with S...|Ariana Grande|       dance pop|           190|    80|          40|        -4|      16|     70|   186|          12|         46|        85|\n",
            "|  4|Beautiful People ...|   Ed Sheeran|             pop|            93|    65|          64|        -8|       8|     55|   198|          12|         19|        86|\n",
            "|  5|Goodbyes (Feat. Y...|  Post Malone|         dfw rap|           150|    65|          58|        -4|      11|     18|   175|          45|          7|        94|\n",
            "|  6|I Don't Care (wit...|   Ed Sheeran|             pop|           102|    68|          80|        -5|       9|     84|   220|           9|          4|        84|\n",
            "|  7|              Ransom|    Lil Tecca|      trap music|           180|    64|          75|        -6|       7|     23|   131|           2|         29|        92|\n",
            "|  8|   How Do You Sleep?|    Sam Smith|             pop|           111|    68|          48|        -5|       8|     35|   202|          15|          9|        90|\n",
            "|  9|Old Town Road - R...|    Lil Nas X|     country rap|           136|    62|          88|        -6|      11|     64|   157|           5|         10|        87|\n",
            "| 10|             bad guy|Billie Eilish|      electropop|           135|    43|          70|       -11|      10|     56|   194|          33|         38|        95|\n",
            "| 11|            Callaita|    Bad Bunny|       reggaeton|           176|    62|          61|        -5|      24|     24|   251|          60|         31|        93|\n",
            "| 12|Loco Contigo (fea...|     DJ Snake|       dance pop|            96|    71|          82|        -4|      15|     38|   185|          28|          7|        86|\n",
            "| 13|   Someone You Loved|Lewis Capaldi|             pop|           110|    41|          50|        -6|      11|     45|   182|          75|          3|        88|\n",
            "| 14|  Otro Trago - Remix|         Sech|  panamanian pop|           176|    79|          73|        -2|       6|     76|   288|           7|         20|        87|\n",
            "| 15|Money In The Grav...|        Drake|canadian hip hop|           101|    50|          83|        -4|      12|     10|   205|          10|          5|        92|\n",
            "| 16|No Guidance (feat...|  Chris Brown|       dance pop|            93|    45|          70|        -7|      16|     14|   261|          12|         15|        82|\n",
            "| 17|          LA CANCI�N|     J Balvin|           latin|           176|    65|          75|        -6|      11|     43|   243|          15|         32|        90|\n",
            "| 18|Sunflower - Spide...|  Post Malone|         dfw rap|            90|    48|          76|        -6|       7|     91|   158|          56|          5|        91|\n",
            "| 19|              Lalala|          Y2K|canadian hip hop|           130|    39|          84|        -8|      14|     50|   161|          18|          8|        88|\n",
            "| 20|         Truth Hurts|        Lizzo|     escape room|           158|    62|          72|        -3|      12|     41|   173|          11|         11|        91|\n",
            "+---+--------------------+-------------+----------------+--------------+------+------------+----------+--------+-------+------+------------+-----------+----------+\n",
            "only showing top 20 rows\n",
            "\n"
          ],
          "name": "stdout"
        }
      ]
    },
    {
      "cell_type": "code",
      "metadata": {
        "id": "a1u7g0ZkiwK1",
        "colab_type": "code",
        "outputId": "4b2c88b2-dc76-4f57-b6a1-2788b53e7433",
        "colab": {
          "base_uri": "https://localhost:8080/",
          "height": 479
        }
      },
      "source": [
        "df.show()"
      ],
      "execution_count": 38,
      "outputs": [
        {
          "output_type": "stream",
          "text": [
            "+---+--------------------+-------------+----------------+--------------+------+------------+----------+--------+-------+------+------------+-----------+----------+\n",
            "|Sno|           TrackName|   ArtistName|           Genre|BeatsPerMinute|Energy|Danceability|LoudnessdB|Liveness|Valence|Length|Acousticness|Speechiness|Popularity|\n",
            "+---+--------------------+-------------+----------------+--------------+------+------------+----------+--------+-------+------+------------+-----------+----------+\n",
            "|  1|            Se�orita| Shawn Mendes|    canadian pop|           117|    55|          76|        -6|       8|     75|   191|           4|          3|        79|\n",
            "|  2|               China|     Anuel AA|  reggaeton flow|           105|    81|          79|        -4|       8|     61|   302|           8|          9|        92|\n",
            "|  3|boyfriend (with S...|Ariana Grande|       dance pop|           190|    80|          40|        -4|      16|     70|   186|          12|         46|        85|\n",
            "|  4|Beautiful People ...|   Ed Sheeran|             pop|            93|    65|          64|        -8|       8|     55|   198|          12|         19|        86|\n",
            "|  5|Goodbyes (Feat. Y...|  Post Malone|         dfw rap|           150|    65|          58|        -4|      11|     18|   175|          45|          7|        94|\n",
            "|  6|I Don't Care (wit...|   Ed Sheeran|             pop|           102|    68|          80|        -5|       9|     84|   220|           9|          4|        84|\n",
            "|  7|              Ransom|    Lil Tecca|      trap music|           180|    64|          75|        -6|       7|     23|   131|           2|         29|        92|\n",
            "|  8|   How Do You Sleep?|    Sam Smith|             pop|           111|    68|          48|        -5|       8|     35|   202|          15|          9|        90|\n",
            "|  9|Old Town Road - R...|    Lil Nas X|     country rap|           136|    62|          88|        -6|      11|     64|   157|           5|         10|        87|\n",
            "| 10|             bad guy|Billie Eilish|      electropop|           135|    43|          70|       -11|      10|     56|   194|          33|         38|        95|\n",
            "| 11|            Callaita|    Bad Bunny|       reggaeton|           176|    62|          61|        -5|      24|     24|   251|          60|         31|        93|\n",
            "| 12|Loco Contigo (fea...|     DJ Snake|       dance pop|            96|    71|          82|        -4|      15|     38|   185|          28|          7|        86|\n",
            "| 13|   Someone You Loved|Lewis Capaldi|             pop|           110|    41|          50|        -6|      11|     45|   182|          75|          3|        88|\n",
            "| 14|  Otro Trago - Remix|         Sech|  panamanian pop|           176|    79|          73|        -2|       6|     76|   288|           7|         20|        87|\n",
            "| 15|Money In The Grav...|        Drake|canadian hip hop|           101|    50|          83|        -4|      12|     10|   205|          10|          5|        92|\n",
            "| 16|No Guidance (feat...|  Chris Brown|       dance pop|            93|    45|          70|        -7|      16|     14|   261|          12|         15|        82|\n",
            "| 17|          LA CANCI�N|     J Balvin|           latin|           176|    65|          75|        -6|      11|     43|   243|          15|         32|        90|\n",
            "| 18|Sunflower - Spide...|  Post Malone|         dfw rap|            90|    48|          76|        -6|       7|     91|   158|          56|          5|        91|\n",
            "| 19|              Lalala|          Y2K|canadian hip hop|           130|    39|          84|        -8|      14|     50|   161|          18|          8|        88|\n",
            "| 20|         Truth Hurts|        Lizzo|     escape room|           158|    62|          72|        -3|      12|     41|   173|          11|         11|        91|\n",
            "+---+--------------------+-------------+----------------+--------------+------+------------+----------+--------+-------+------+------------+-----------+----------+\n",
            "only showing top 20 rows\n",
            "\n"
          ],
          "name": "stdout"
        }
      ]
    },
    {
      "cell_type": "markdown",
      "metadata": {
        "id": "0deXwY9ojlrP",
        "colab_type": "text"
      },
      "source": [
        "**Change Column name permanently**"
      ]
    },
    {
      "cell_type": "code",
      "metadata": {
        "id": "K7jjwMFCi1RE",
        "colab_type": "code",
        "colab": {}
      },
      "source": [
        "df=df.withColumnRenamed('Genre', 'TypeOfMusic')"
      ],
      "execution_count": 0,
      "outputs": []
    },
    {
      "cell_type": "code",
      "metadata": {
        "id": "oM5fCDRui3vW",
        "colab_type": "code",
        "outputId": "ffcaa117-b925-4789-b00b-1fcdf1f4696e",
        "colab": {
          "base_uri": "https://localhost:8080/",
          "height": 479
        }
      },
      "source": [
        "df.show()"
      ],
      "execution_count": 40,
      "outputs": [
        {
          "output_type": "stream",
          "text": [
            "+---+--------------------+-------------+----------------+--------------+------+------------+----------+--------+-------+------+------------+-----------+----------+\n",
            "|Sno|           TrackName|   ArtistName|     TypeOfMusic|BeatsPerMinute|Energy|Danceability|LoudnessdB|Liveness|Valence|Length|Acousticness|Speechiness|Popularity|\n",
            "+---+--------------------+-------------+----------------+--------------+------+------------+----------+--------+-------+------+------------+-----------+----------+\n",
            "|  1|            Se�orita| Shawn Mendes|    canadian pop|           117|    55|          76|        -6|       8|     75|   191|           4|          3|        79|\n",
            "|  2|               China|     Anuel AA|  reggaeton flow|           105|    81|          79|        -4|       8|     61|   302|           8|          9|        92|\n",
            "|  3|boyfriend (with S...|Ariana Grande|       dance pop|           190|    80|          40|        -4|      16|     70|   186|          12|         46|        85|\n",
            "|  4|Beautiful People ...|   Ed Sheeran|             pop|            93|    65|          64|        -8|       8|     55|   198|          12|         19|        86|\n",
            "|  5|Goodbyes (Feat. Y...|  Post Malone|         dfw rap|           150|    65|          58|        -4|      11|     18|   175|          45|          7|        94|\n",
            "|  6|I Don't Care (wit...|   Ed Sheeran|             pop|           102|    68|          80|        -5|       9|     84|   220|           9|          4|        84|\n",
            "|  7|              Ransom|    Lil Tecca|      trap music|           180|    64|          75|        -6|       7|     23|   131|           2|         29|        92|\n",
            "|  8|   How Do You Sleep?|    Sam Smith|             pop|           111|    68|          48|        -5|       8|     35|   202|          15|          9|        90|\n",
            "|  9|Old Town Road - R...|    Lil Nas X|     country rap|           136|    62|          88|        -6|      11|     64|   157|           5|         10|        87|\n",
            "| 10|             bad guy|Billie Eilish|      electropop|           135|    43|          70|       -11|      10|     56|   194|          33|         38|        95|\n",
            "| 11|            Callaita|    Bad Bunny|       reggaeton|           176|    62|          61|        -5|      24|     24|   251|          60|         31|        93|\n",
            "| 12|Loco Contigo (fea...|     DJ Snake|       dance pop|            96|    71|          82|        -4|      15|     38|   185|          28|          7|        86|\n",
            "| 13|   Someone You Loved|Lewis Capaldi|             pop|           110|    41|          50|        -6|      11|     45|   182|          75|          3|        88|\n",
            "| 14|  Otro Trago - Remix|         Sech|  panamanian pop|           176|    79|          73|        -2|       6|     76|   288|           7|         20|        87|\n",
            "| 15|Money In The Grav...|        Drake|canadian hip hop|           101|    50|          83|        -4|      12|     10|   205|          10|          5|        92|\n",
            "| 16|No Guidance (feat...|  Chris Brown|       dance pop|            93|    45|          70|        -7|      16|     14|   261|          12|         15|        82|\n",
            "| 17|          LA CANCI�N|     J Balvin|           latin|           176|    65|          75|        -6|      11|     43|   243|          15|         32|        90|\n",
            "| 18|Sunflower - Spide...|  Post Malone|         dfw rap|            90|    48|          76|        -6|       7|     91|   158|          56|          5|        91|\n",
            "| 19|              Lalala|          Y2K|canadian hip hop|           130|    39|          84|        -8|      14|     50|   161|          18|          8|        88|\n",
            "| 20|         Truth Hurts|        Lizzo|     escape room|           158|    62|          72|        -3|      12|     41|   173|          11|         11|        91|\n",
            "+---+--------------------+-------------+----------------+--------------+------+------------+----------+--------+-------+------+------------+-----------+----------+\n",
            "only showing top 20 rows\n",
            "\n"
          ],
          "name": "stdout"
        }
      ]
    },
    {
      "cell_type": "code",
      "metadata": {
        "id": "P0G-zV3foWhd",
        "colab_type": "code",
        "outputId": "57e6ede8-2ef0-40e4-eb16-41cb40fdd66f",
        "colab": {
          "base_uri": "https://localhost:8080/",
          "height": 289
        }
      },
      "source": [
        "df.printSchema()"
      ],
      "execution_count": 41,
      "outputs": [
        {
          "output_type": "stream",
          "text": [
            "root\n",
            " |-- Sno: integer (nullable = true)\n",
            " |-- TrackName: string (nullable = true)\n",
            " |-- ArtistName: string (nullable = true)\n",
            " |-- TypeOfMusic: string (nullable = true)\n",
            " |-- BeatsPerMinute: integer (nullable = true)\n",
            " |-- Energy: integer (nullable = true)\n",
            " |-- Danceability: integer (nullable = true)\n",
            " |-- LoudnessdB: integer (nullable = true)\n",
            " |-- Liveness: integer (nullable = true)\n",
            " |-- Valence: integer (nullable = true)\n",
            " |-- Length: integer (nullable = true)\n",
            " |-- Acousticness: integer (nullable = true)\n",
            " |-- Speechiness: integer (nullable = true)\n",
            " |-- Popularity: integer (nullable = true)\n",
            "\n"
          ],
          "name": "stdout"
        }
      ]
    },
    {
      "cell_type": "markdown",
      "metadata": {
        "id": "BmFJ3nHVmtz6",
        "colab_type": "text"
      },
      "source": [
        "**Group By/  With Coumn Renamed**"
      ]
    },
    {
      "cell_type": "code",
      "metadata": {
        "id": "7FFuPsAHi5UF",
        "colab_type": "code",
        "colab": {}
      },
      "source": [
        "df1=df.groupBy(\"ArtistName\").count()"
      ],
      "execution_count": 0,
      "outputs": []
    },
    {
      "cell_type": "code",
      "metadata": {
        "id": "Sr4r-ErLj16m",
        "colab_type": "code",
        "colab": {}
      },
      "source": [
        "df1=df1.withColumnRenamed(\"count\",\"Count\")"
      ],
      "execution_count": 0,
      "outputs": []
    },
    {
      "cell_type": "code",
      "metadata": {
        "id": "y61eZdhslUGG",
        "colab_type": "code",
        "colab": {}
      },
      "source": [
        "from pyspark.sql.functions import *"
      ],
      "execution_count": 0,
      "outputs": []
    },
    {
      "cell_type": "code",
      "metadata": {
        "id": "4I6QRL3vlsAn",
        "colab_type": "code",
        "outputId": "bcb799ec-df6f-4674-aa33-3235fb5ba048",
        "colab": {
          "base_uri": "https://localhost:8080/",
          "height": 459
        }
      },
      "source": [
        "df1.show()"
      ],
      "execution_count": 45,
      "outputs": [
        {
          "output_type": "stream",
          "text": [
            "+----------------+-----+\n",
            "|      ArtistName|Count|\n",
            "+----------------+-----+\n",
            "|       Lil Nas X|    2|\n",
            "|       Ali Gatie|    1|\n",
            "|The Chainsmokers|    2|\n",
            "|     Tones and I|    1|\n",
            "|       Lil Tecca|    1|\n",
            "|    Taylor Swift|    1|\n",
            "|          Maluma|    1|\n",
            "|       Sam Smith|    1|\n",
            "|            Kygo|    1|\n",
            "|         ROSAL�A|    1|\n",
            "|          Khalid|    1|\n",
            "|      Marshmello|    2|\n",
            "|   Ariana Grande|    2|\n",
            "|   Billie Eilish|    2|\n",
            "|    Shawn Mendes|    2|\n",
            "|            Sech|    2|\n",
            "|            Lauv|    1|\n",
            "|       Bad Bunny|    1|\n",
            "|   Lewis Capaldi|    1|\n",
            "|     Jhay Cortez|    1|\n",
            "+----------------+-----+\n",
            "only showing top 20 rows\n",
            "\n"
          ],
          "name": "stdout"
        }
      ]
    },
    {
      "cell_type": "markdown",
      "metadata": {
        "id": "PPIWdZN3po6h",
        "colab_type": "text"
      },
      "source": [
        "**Filter/ Where/ Condition /Multiple Condition**"
      ]
    },
    {
      "cell_type": "code",
      "metadata": {
        "id": "NEAS4WdmluiO",
        "colab_type": "code",
        "outputId": "a2fa54af-a9a3-4c44-f0ce-e45385ec05d6",
        "colab": {
          "base_uri": "https://localhost:8080/",
          "height": 479
        }
      },
      "source": [
        "df.where((col(\"Danceability\") >50) & (col(\"Danceability\") <75)).show()"
      ],
      "execution_count": 46,
      "outputs": [
        {
          "output_type": "stream",
          "text": [
            "+---+--------------------+-------------+----------------+--------------+------+------------+----------+--------+-------+------+------------+-----------+----------+\n",
            "|Sno|           TrackName|   ArtistName|     TypeOfMusic|BeatsPerMinute|Energy|Danceability|LoudnessdB|Liveness|Valence|Length|Acousticness|Speechiness|Popularity|\n",
            "+---+--------------------+-------------+----------------+--------------+------+------------+----------+--------+-------+------+------------+-----------+----------+\n",
            "|  4|Beautiful People ...|   Ed Sheeran|             pop|            93|    65|          64|        -8|       8|     55|   198|          12|         19|        86|\n",
            "|  5|Goodbyes (Feat. Y...|  Post Malone|         dfw rap|           150|    65|          58|        -4|      11|     18|   175|          45|          7|        94|\n",
            "| 10|             bad guy|Billie Eilish|      electropop|           135|    43|          70|       -11|      10|     56|   194|          33|         38|        95|\n",
            "| 11|            Callaita|    Bad Bunny|       reggaeton|           176|    62|          61|        -5|      24|     24|   251|          60|         31|        93|\n",
            "| 14|  Otro Trago - Remix|         Sech|  panamanian pop|           176|    79|          73|        -2|       6|     76|   288|           7|         20|        87|\n",
            "| 16|No Guidance (feat...|  Chris Brown|       dance pop|            93|    45|          70|        -7|      16|     14|   261|          12|         15|        82|\n",
            "| 20|         Truth Hurts|        Lizzo|     escape room|           158|    62|          72|        -3|      12|     41|   173|          11|         11|        91|\n",
            "| 21| Piece Of Your Heart|       MEDUZA|       pop house|           124|    74|          68|        -7|       7|     63|   153|           4|          3|        91|\n",
            "| 22|              Panini|    Lil Nas X|     country rap|           154|    59|          70|        -6|      12|     48|   115|          34|          8|        91|\n",
            "| 25|bad guy (with Jus...|Billie Eilish|      electropop|           135|    45|          67|       -11|      12|     68|   195|          25|         30|        89|\n",
            "| 26| If I Can't Have You| Shawn Mendes|    canadian pop|           124|    82|          69|        -4|      13|     87|   191|          49|          6|        70|\n",
            "| 28|            It's You|    Ali Gatie|canadian hip hop|            96|    46|          73|        -7|      19|     40|   213|          37|          3|        89|\n",
            "| 29|           Con Calma| Daddy Yankee|           latin|            94|    86|          74|        -3|       6|     66|   193|          11|          6|        91|\n",
            "| 30|       QUE PRETENDES|     J Balvin|           latin|            93|    79|          64|        -4|      36|     94|   222|           3|         25|        89|\n",
            "| 36|Summer Days (feat...|Martin Garrix|        big room|           114|    72|          66|        -7|      14|     32|   164|          18|          6|        89|\n",
            "| 38|Antisocial (with ...|   Ed Sheeran|             pop|           152|    82|          72|        -5|      36|     91|   162|          13|          5|        87|\n",
            "| 41|         Higher Love|         Kygo|             edm|           104|    68|          69|        -7|      10|     40|   228|           2|          3|        88|\n",
            "| 43|             Shallow|    Lady Gaga|       dance pop|            96|    39|          57|        -6|      23|     32|   216|          37|          3|        87|\n",
            "| 46|     One Thing Right|   Marshmello|         brostep|            88|    62|          66|        -2|      58|     44|   182|           7|          5|        88|\n",
            "| 47|           Te Robar�|    Nicky Jam|           latin|           176|    75|          67|        -4|       8|     80|   202|          24|          6|        88|\n",
            "+---+--------------------+-------------+----------------+--------------+------+------------+----------+--------+-------+------+------------+-----------+----------+\n",
            "only showing top 20 rows\n",
            "\n"
          ],
          "name": "stdout"
        }
      ]
    },
    {
      "cell_type": "markdown",
      "metadata": {
        "id": "OogF0no2rWN8",
        "colab_type": "text"
      },
      "source": [
        "**Filter Condition**"
      ]
    },
    {
      "cell_type": "code",
      "metadata": {
        "id": "33XsHm3lp68R",
        "colab_type": "code",
        "outputId": "19eafc69-5fc5-4d9f-b619-28ec5de68879",
        "colab": {
          "base_uri": "https://localhost:8080/",
          "height": 187
        }
      },
      "source": [
        "df.filter((col(\"TypeOfMusic\")==\"latin\")).show()"
      ],
      "execution_count": 47,
      "outputs": [
        {
          "output_type": "stream",
          "text": [
            "+---+---------------+------------+-----------+--------------+------+------------+----------+--------+-------+------+------------+-----------+----------+\n",
            "|Sno|      TrackName|  ArtistName|TypeOfMusic|BeatsPerMinute|Energy|Danceability|LoudnessdB|Liveness|Valence|Length|Acousticness|Speechiness|Popularity|\n",
            "+---+---------------+------------+-----------+--------------+------+------------+----------+--------+-------+------+------------+-----------+----------+\n",
            "| 17|     LA CANCI�N|    J Balvin|      latin|           176|    65|          75|        -6|      11|     43|   243|          15|         32|        90|\n",
            "| 24|Soltera - Remix|       Lunay|      latin|            92|    78|          80|        -4|      44|     80|   266|          36|          4|        91|\n",
            "| 29|      Con Calma|Daddy Yankee|      latin|            94|    86|          74|        -3|       6|     66|   193|          11|          6|        91|\n",
            "| 30|  QUE PRETENDES|    J Balvin|      latin|            93|    79|          64|        -4|      36|     94|   222|           3|         25|        89|\n",
            "| 47|      Te Robar�|   Nicky Jam|      latin|           176|    75|          67|        -4|       8|     80|   202|          24|          6|        88|\n",
            "+---+---------------+------------+-----------+--------------+------+------------+----------+--------+-------+------+------------+-----------+----------+\n",
            "\n"
          ],
          "name": "stdout"
        }
      ]
    },
    {
      "cell_type": "markdown",
      "metadata": {
        "id": "qStpJ190r3fP",
        "colab_type": "text"
      },
      "source": [
        "**Filter Multiple Condition**"
      ]
    },
    {
      "cell_type": "code",
      "metadata": {
        "id": "NSfsTRBvq36o",
        "colab_type": "code",
        "outputId": "0a249dcc-fc79-4e42-e145-93ff09afafeb",
        "colab": {
          "base_uri": "https://localhost:8080/",
          "height": 136
        }
      },
      "source": [
        "df.filter((col(\"TypeOfMusic\")==\"latin\")&(col(\"Speechiness\")==6)).show()"
      ],
      "execution_count": 48,
      "outputs": [
        {
          "output_type": "stream",
          "text": [
            "+---+---------+------------+-----------+--------------+------+------------+----------+--------+-------+------+------------+-----------+----------+\n",
            "|Sno|TrackName|  ArtistName|TypeOfMusic|BeatsPerMinute|Energy|Danceability|LoudnessdB|Liveness|Valence|Length|Acousticness|Speechiness|Popularity|\n",
            "+---+---------+------------+-----------+--------------+------+------------+----------+--------+-------+------+------------+-----------+----------+\n",
            "| 29|Con Calma|Daddy Yankee|      latin|            94|    86|          74|        -3|       6|     66|   193|          11|          6|        91|\n",
            "| 47|Te Robar�|   Nicky Jam|      latin|           176|    75|          67|        -4|       8|     80|   202|          24|          6|        88|\n",
            "+---+---------+------------+-----------+--------------+------+------------+----------+--------+-------+------+------------+-----------+----------+\n",
            "\n"
          ],
          "name": "stdout"
        }
      ]
    },
    {
      "cell_type": "code",
      "metadata": {
        "id": "PlQXV-zyrzkB",
        "colab_type": "code",
        "outputId": "46f47bc3-2eb9-471f-f5c6-923dcb18a810",
        "colab": {
          "base_uri": "https://localhost:8080/",
          "height": 479
        }
      },
      "source": [
        "df.filter((col(\"Danceability\") >50) & (col(\"Danceability\") <75)).show()"
      ],
      "execution_count": 49,
      "outputs": [
        {
          "output_type": "stream",
          "text": [
            "+---+--------------------+-------------+----------------+--------------+------+------------+----------+--------+-------+------+------------+-----------+----------+\n",
            "|Sno|           TrackName|   ArtistName|     TypeOfMusic|BeatsPerMinute|Energy|Danceability|LoudnessdB|Liveness|Valence|Length|Acousticness|Speechiness|Popularity|\n",
            "+---+--------------------+-------------+----------------+--------------+------+------------+----------+--------+-------+------+------------+-----------+----------+\n",
            "|  4|Beautiful People ...|   Ed Sheeran|             pop|            93|    65|          64|        -8|       8|     55|   198|          12|         19|        86|\n",
            "|  5|Goodbyes (Feat. Y...|  Post Malone|         dfw rap|           150|    65|          58|        -4|      11|     18|   175|          45|          7|        94|\n",
            "| 10|             bad guy|Billie Eilish|      electropop|           135|    43|          70|       -11|      10|     56|   194|          33|         38|        95|\n",
            "| 11|            Callaita|    Bad Bunny|       reggaeton|           176|    62|          61|        -5|      24|     24|   251|          60|         31|        93|\n",
            "| 14|  Otro Trago - Remix|         Sech|  panamanian pop|           176|    79|          73|        -2|       6|     76|   288|           7|         20|        87|\n",
            "| 16|No Guidance (feat...|  Chris Brown|       dance pop|            93|    45|          70|        -7|      16|     14|   261|          12|         15|        82|\n",
            "| 20|         Truth Hurts|        Lizzo|     escape room|           158|    62|          72|        -3|      12|     41|   173|          11|         11|        91|\n",
            "| 21| Piece Of Your Heart|       MEDUZA|       pop house|           124|    74|          68|        -7|       7|     63|   153|           4|          3|        91|\n",
            "| 22|              Panini|    Lil Nas X|     country rap|           154|    59|          70|        -6|      12|     48|   115|          34|          8|        91|\n",
            "| 25|bad guy (with Jus...|Billie Eilish|      electropop|           135|    45|          67|       -11|      12|     68|   195|          25|         30|        89|\n",
            "| 26| If I Can't Have You| Shawn Mendes|    canadian pop|           124|    82|          69|        -4|      13|     87|   191|          49|          6|        70|\n",
            "| 28|            It's You|    Ali Gatie|canadian hip hop|            96|    46|          73|        -7|      19|     40|   213|          37|          3|        89|\n",
            "| 29|           Con Calma| Daddy Yankee|           latin|            94|    86|          74|        -3|       6|     66|   193|          11|          6|        91|\n",
            "| 30|       QUE PRETENDES|     J Balvin|           latin|            93|    79|          64|        -4|      36|     94|   222|           3|         25|        89|\n",
            "| 36|Summer Days (feat...|Martin Garrix|        big room|           114|    72|          66|        -7|      14|     32|   164|          18|          6|        89|\n",
            "| 38|Antisocial (with ...|   Ed Sheeran|             pop|           152|    82|          72|        -5|      36|     91|   162|          13|          5|        87|\n",
            "| 41|         Higher Love|         Kygo|             edm|           104|    68|          69|        -7|      10|     40|   228|           2|          3|        88|\n",
            "| 43|             Shallow|    Lady Gaga|       dance pop|            96|    39|          57|        -6|      23|     32|   216|          37|          3|        87|\n",
            "| 46|     One Thing Right|   Marshmello|         brostep|            88|    62|          66|        -2|      58|     44|   182|           7|          5|        88|\n",
            "| 47|           Te Robar�|    Nicky Jam|           latin|           176|    75|          67|        -4|       8|     80|   202|          24|          6|        88|\n",
            "+---+--------------------+-------------+----------------+--------------+------+------------+----------+--------+-------+------+------------+-----------+----------+\n",
            "only showing top 20 rows\n",
            "\n"
          ],
          "name": "stdout"
        }
      ]
    },
    {
      "cell_type": "markdown",
      "metadata": {
        "id": "2MoajiMPsaR0",
        "colab_type": "text"
      },
      "source": [
        "**Filter without using col**"
      ]
    },
    {
      "cell_type": "code",
      "metadata": {
        "id": "F3xxGgLasC_3",
        "colab_type": "code",
        "outputId": "99aa3393-644d-4bd5-9464-bc7aac627b2d",
        "colab": {
          "base_uri": "https://localhost:8080/",
          "height": 187
        }
      },
      "source": [
        "df.filter((df.TypeOfMusic==\"latin\")).show()"
      ],
      "execution_count": 50,
      "outputs": [
        {
          "output_type": "stream",
          "text": [
            "+---+---------------+------------+-----------+--------------+------+------------+----------+--------+-------+------+------------+-----------+----------+\n",
            "|Sno|      TrackName|  ArtistName|TypeOfMusic|BeatsPerMinute|Energy|Danceability|LoudnessdB|Liveness|Valence|Length|Acousticness|Speechiness|Popularity|\n",
            "+---+---------------+------------+-----------+--------------+------+------------+----------+--------+-------+------+------------+-----------+----------+\n",
            "| 17|     LA CANCI�N|    J Balvin|      latin|           176|    65|          75|        -6|      11|     43|   243|          15|         32|        90|\n",
            "| 24|Soltera - Remix|       Lunay|      latin|            92|    78|          80|        -4|      44|     80|   266|          36|          4|        91|\n",
            "| 29|      Con Calma|Daddy Yankee|      latin|            94|    86|          74|        -3|       6|     66|   193|          11|          6|        91|\n",
            "| 30|  QUE PRETENDES|    J Balvin|      latin|            93|    79|          64|        -4|      36|     94|   222|           3|         25|        89|\n",
            "| 47|      Te Robar�|   Nicky Jam|      latin|           176|    75|          67|        -4|       8|     80|   202|          24|          6|        88|\n",
            "+---+---------------+------------+-----------+--------------+------+------------+----------+--------+-------+------+------------+-----------+----------+\n",
            "\n"
          ],
          "name": "stdout"
        }
      ]
    },
    {
      "cell_type": "markdown",
      "metadata": {
        "id": "ETuT4l0musld",
        "colab_type": "text"
      },
      "source": [
        "**Group By/ Average**"
      ]
    },
    {
      "cell_type": "code",
      "metadata": {
        "id": "mqiovbLysUjP",
        "colab_type": "code",
        "outputId": "7d1b5c88-c991-4fc4-bf4d-1fee18e7fbc0",
        "colab": {
          "base_uri": "https://localhost:8080/",
          "height": 459
        }
      },
      "source": [
        "df.groupby(\"TypeOfMusic\").avg(\"Length\").show()"
      ],
      "execution_count": 51,
      "outputs": [
        {
          "output_type": "stream",
          "text": [
            "+----------------+------------------+\n",
            "|     TypeOfMusic|       avg(Length)|\n",
            "+----------------+------------------+\n",
            "|        boy band|             181.0|\n",
            "|      electropop|             194.5|\n",
            "|             pop|195.42857142857142|\n",
            "|         brostep|             198.0|\n",
            "|        big room|             164.0|\n",
            "|       pop house|             153.0|\n",
            "|  australian pop|             210.0|\n",
            "|             edm|218.66666666666666|\n",
            "|  r&b en espanol|             162.0|\n",
            "|       dance pop|           202.625|\n",
            "|       reggaeton|             213.5|\n",
            "|    canadian pop|             191.0|\n",
            "|      trap music|             131.0|\n",
            "|     escape room|             173.0|\n",
            "|  reggaeton flow|             305.5|\n",
            "|  panamanian pop|             257.0|\n",
            "|     atl hip hop|             200.0|\n",
            "|     country rap|             136.0|\n",
            "|canadian hip hop|             193.0|\n",
            "|         dfw rap|             166.5|\n",
            "+----------------+------------------+\n",
            "only showing top 20 rows\n",
            "\n"
          ],
          "name": "stdout"
        }
      ]
    },
    {
      "cell_type": "code",
      "metadata": {
        "id": "KimV54sLtwLI",
        "colab_type": "code",
        "colab": {}
      },
      "source": [
        "from pyspark.sql.functions import countDistinct"
      ],
      "execution_count": 0,
      "outputs": []
    },
    {
      "cell_type": "markdown",
      "metadata": {
        "id": "BWjReSWLxHQl",
        "colab_type": "text"
      },
      "source": [
        "**Group By/ Count Distinct/ (Below) Count**"
      ]
    },
    {
      "cell_type": "code",
      "metadata": {
        "id": "vZ0Wo51jvvbA",
        "colab_type": "code",
        "outputId": "03d76fab-01c3-40f7-8a39-c9f1649e2e10",
        "colab": {
          "base_uri": "https://localhost:8080/",
          "height": 459
        }
      },
      "source": [
        "df.groupBy(\"TypeOfMusic\").agg(countDistinct(\"ArtistName\")).show()"
      ],
      "execution_count": 53,
      "outputs": [
        {
          "output_type": "stream",
          "text": [
            "+----------------+--------------------------+\n",
            "|     TypeOfMusic|count(DISTINCT ArtistName)|\n",
            "+----------------+--------------------------+\n",
            "|        boy band|                         1|\n",
            "|      electropop|                         1|\n",
            "|             pop|                         4|\n",
            "|         brostep|                         1|\n",
            "|        big room|                         1|\n",
            "|       pop house|                         1|\n",
            "|  australian pop|                         1|\n",
            "|             edm|                         2|\n",
            "|  r&b en espanol|                         1|\n",
            "|       dance pop|                         7|\n",
            "|       reggaeton|                         2|\n",
            "|    canadian pop|                         1|\n",
            "|      trap music|                         1|\n",
            "|     escape room|                         1|\n",
            "|  reggaeton flow|                         2|\n",
            "|  panamanian pop|                         1|\n",
            "|     atl hip hop|                         1|\n",
            "|     country rap|                         1|\n",
            "|canadian hip hop|                         3|\n",
            "|         dfw rap|                         1|\n",
            "+----------------+--------------------------+\n",
            "only showing top 20 rows\n",
            "\n"
          ],
          "name": "stdout"
        }
      ]
    },
    {
      "cell_type": "code",
      "metadata": {
        "id": "iTPtRBfqwLZK",
        "colab_type": "code",
        "outputId": "69dee89e-0cd9-4462-c16e-5cc198c04055",
        "colab": {
          "base_uri": "https://localhost:8080/",
          "height": 459
        }
      },
      "source": [
        "df.groupBy(\"TypeOfMusic\").agg(count(\"ArtistName\")).show()"
      ],
      "execution_count": 54,
      "outputs": [
        {
          "output_type": "stream",
          "text": [
            "+----------------+-----------------+\n",
            "|     TypeOfMusic|count(ArtistName)|\n",
            "+----------------+-----------------+\n",
            "|        boy band|                1|\n",
            "|      electropop|                2|\n",
            "|             pop|                7|\n",
            "|         brostep|                2|\n",
            "|        big room|                1|\n",
            "|       pop house|                1|\n",
            "|  australian pop|                1|\n",
            "|             edm|                3|\n",
            "|  r&b en espanol|                1|\n",
            "|       dance pop|                8|\n",
            "|       reggaeton|                2|\n",
            "|    canadian pop|                2|\n",
            "|      trap music|                1|\n",
            "|     escape room|                1|\n",
            "|  reggaeton flow|                2|\n",
            "|  panamanian pop|                2|\n",
            "|     atl hip hop|                1|\n",
            "|     country rap|                2|\n",
            "|canadian hip hop|                3|\n",
            "|         dfw rap|                2|\n",
            "+----------------+-----------------+\n",
            "only showing top 20 rows\n",
            "\n"
          ],
          "name": "stdout"
        }
      ]
    },
    {
      "cell_type": "markdown",
      "metadata": {
        "id": "x-1aLRtwx6hD",
        "colab_type": "text"
      },
      "source": [
        "**Alias in group by**"
      ]
    },
    {
      "cell_type": "code",
      "metadata": {
        "id": "qhZ-S4Mnwp3h",
        "colab_type": "code",
        "outputId": "79a7f785-540b-4861-e936-5880f8fe3621",
        "colab": {
          "base_uri": "https://localhost:8080/",
          "height": 459
        }
      },
      "source": [
        "df.groupBy(\"TypeOfMusic\").agg(count(\"ArtistName\").alias(\"Count\")).show()"
      ],
      "execution_count": 55,
      "outputs": [
        {
          "output_type": "stream",
          "text": [
            "+----------------+-----+\n",
            "|     TypeOfMusic|Count|\n",
            "+----------------+-----+\n",
            "|        boy band|    1|\n",
            "|      electropop|    2|\n",
            "|             pop|    7|\n",
            "|         brostep|    2|\n",
            "|        big room|    1|\n",
            "|       pop house|    1|\n",
            "|  australian pop|    1|\n",
            "|             edm|    3|\n",
            "|  r&b en espanol|    1|\n",
            "|       dance pop|    8|\n",
            "|       reggaeton|    2|\n",
            "|    canadian pop|    2|\n",
            "|      trap music|    1|\n",
            "|     escape room|    1|\n",
            "|  reggaeton flow|    2|\n",
            "|  panamanian pop|    2|\n",
            "|     atl hip hop|    1|\n",
            "|     country rap|    2|\n",
            "|canadian hip hop|    3|\n",
            "|         dfw rap|    2|\n",
            "+----------------+-----+\n",
            "only showing top 20 rows\n",
            "\n"
          ],
          "name": "stdout"
        }
      ]
    },
    {
      "cell_type": "markdown",
      "metadata": {
        "id": "QWtMWvEBHoVE",
        "colab_type": "text"
      },
      "source": [
        "**Group By Having/ Filter**"
      ]
    },
    {
      "cell_type": "code",
      "metadata": {
        "id": "bjseKhQvCiOt",
        "colab_type": "code",
        "outputId": "469002ca-b1ae-4ee3-da89-94ca54c52296",
        "colab": {
          "base_uri": "https://localhost:8080/",
          "height": 187
        }
      },
      "source": [
        "df.groupBy(\"TypeOfMusic\").agg(count(\"ArtistName\").alias(\"Count\")).filter(col(\"Count\")>2).show()"
      ],
      "execution_count": 56,
      "outputs": [
        {
          "output_type": "stream",
          "text": [
            "+----------------+-----+\n",
            "|     TypeOfMusic|Count|\n",
            "+----------------+-----+\n",
            "|             pop|    7|\n",
            "|             edm|    3|\n",
            "|       dance pop|    8|\n",
            "|canadian hip hop|    3|\n",
            "|           latin|    5|\n",
            "+----------------+-----+\n",
            "\n"
          ],
          "name": "stdout"
        }
      ]
    },
    {
      "cell_type": "markdown",
      "metadata": {
        "id": "n-LF7QZ6yhtm",
        "colab_type": "text"
      },
      "source": [
        "**Arrange in ascending/descending order /order by**"
      ]
    },
    {
      "cell_type": "code",
      "metadata": {
        "id": "1tD1K9YZxhXI",
        "colab_type": "code",
        "outputId": "711b3d47-d047-402b-ac42-98e36fc22268",
        "colab": {
          "base_uri": "https://localhost:8080/",
          "height": 459
        }
      },
      "source": [
        "df.groupBy(\"TypeOfMusic\").agg(count(\"ArtistName\").alias(\"Count\")).orderBy('Count').show()"
      ],
      "execution_count": 57,
      "outputs": [
        {
          "output_type": "stream",
          "text": [
            "+----------------+-----+\n",
            "|     TypeOfMusic|Count|\n",
            "+----------------+-----+\n",
            "|       pop house|    1|\n",
            "|      trap music|    1|\n",
            "|     escape room|    1|\n",
            "|  australian pop|    1|\n",
            "|        boy band|    1|\n",
            "|     atl hip hop|    1|\n",
            "|  r&b en espanol|    1|\n",
            "|        big room|    1|\n",
            "|      electropop|    2|\n",
            "|    canadian pop|    2|\n",
            "|  reggaeton flow|    2|\n",
            "|  panamanian pop|    2|\n",
            "|         brostep|    2|\n",
            "|       reggaeton|    2|\n",
            "|     country rap|    2|\n",
            "|         dfw rap|    2|\n",
            "|canadian hip hop|    3|\n",
            "|             edm|    3|\n",
            "|           latin|    5|\n",
            "|             pop|    7|\n",
            "+----------------+-----+\n",
            "only showing top 20 rows\n",
            "\n"
          ],
          "name": "stdout"
        }
      ]
    },
    {
      "cell_type": "code",
      "metadata": {
        "id": "4kVkQhnXyPFY",
        "colab_type": "code",
        "outputId": "31dccb19-2f9e-477d-b143-5bbd1763a283",
        "colab": {
          "base_uri": "https://localhost:8080/",
          "height": 459
        }
      },
      "source": [
        "df.groupBy(\"TypeOfMusic\").agg(count(\"ArtistName\").alias(\"Count\")).orderBy(desc('Count')).show()"
      ],
      "execution_count": 58,
      "outputs": [
        {
          "output_type": "stream",
          "text": [
            "+----------------+-----+\n",
            "|     TypeOfMusic|Count|\n",
            "+----------------+-----+\n",
            "|       dance pop|    8|\n",
            "|             pop|    7|\n",
            "|           latin|    5|\n",
            "|             edm|    3|\n",
            "|canadian hip hop|    3|\n",
            "|      electropop|    2|\n",
            "|         brostep|    2|\n",
            "|         dfw rap|    2|\n",
            "|       reggaeton|    2|\n",
            "|    canadian pop|    2|\n",
            "|  reggaeton flow|    2|\n",
            "|  panamanian pop|    2|\n",
            "|     country rap|    2|\n",
            "|        boy band|    1|\n",
            "|        big room|    1|\n",
            "|       pop house|    1|\n",
            "|  r&b en espanol|    1|\n",
            "|      trap music|    1|\n",
            "|  australian pop|    1|\n",
            "|     atl hip hop|    1|\n",
            "+----------------+-----+\n",
            "only showing top 20 rows\n",
            "\n"
          ],
          "name": "stdout"
        }
      ]
    },
    {
      "cell_type": "code",
      "metadata": {
        "id": "UrIROVqQyc16",
        "colab_type": "code",
        "outputId": "57ad4403-e3b6-4c6d-f940-f0f35a2a1fc3",
        "colab": {
          "base_uri": "https://localhost:8080/",
          "height": 459
        }
      },
      "source": [
        "df.groupBy(\"TypeOfMusic\").agg((max(\"Danceability\")-min(\"Danceability\")).alias(\"max-min\")).show()"
      ],
      "execution_count": 59,
      "outputs": [
        {
          "output_type": "stream",
          "text": [
            "+----------------+-------+\n",
            "|     TypeOfMusic|max-min|\n",
            "+----------------+-------+\n",
            "|        boy band|      0|\n",
            "|      electropop|      3|\n",
            "|             pop|     42|\n",
            "|         brostep|      3|\n",
            "|        big room|      0|\n",
            "|       pop house|      0|\n",
            "|  australian pop|      0|\n",
            "|             edm|     40|\n",
            "|  r&b en espanol|      0|\n",
            "|       dance pop|     42|\n",
            "|       reggaeton|     17|\n",
            "|    canadian pop|      7|\n",
            "|      trap music|      0|\n",
            "|     escape room|      0|\n",
            "|  reggaeton flow|      2|\n",
            "|  panamanian pop|      2|\n",
            "|     atl hip hop|      0|\n",
            "|     country rap|     18|\n",
            "|canadian hip hop|     11|\n",
            "|         dfw rap|     18|\n",
            "+----------------+-------+\n",
            "only showing top 20 rows\n",
            "\n"
          ],
          "name": "stdout"
        }
      ]
    },
    {
      "cell_type": "code",
      "metadata": {
        "id": "1xP2cWcc0JL5",
        "colab_type": "code",
        "outputId": "5496cf38-ac3e-4614-8ae4-e2ae76fcc1c0",
        "colab": {
          "base_uri": "https://localhost:8080/",
          "height": 323
        }
      },
      "source": [
        "dataset1 = [\n",
        "\n",
        "  {\n",
        "\n",
        "  'key' : 'abc',\n",
        "\n",
        "  'val11' : 1.1,\n",
        "\n",
        "  'val12' : 1.2\n",
        "\n",
        "  },\n",
        "\n",
        "  {\n",
        "\n",
        "  'key' : 'def',\n",
        "\n",
        "  'val11' : 3.0,\n",
        "\n",
        "  'val12' : 3.4\n",
        "\n",
        "  }\n",
        "\n",
        "]\n",
        "\n",
        "dataset2 = [\n",
        "\n",
        "  {\n",
        "\n",
        "  'key' : 'abc',\n",
        "\n",
        "  'val21' : 2.1,\n",
        "\n",
        "  'val22' : 2.2\n",
        "\n",
        "  },\n",
        "\n",
        "  {\n",
        "\n",
        "  'key' : 'xyz',\n",
        "\n",
        "  'val21' : 3.1,\n",
        "\n",
        "  'val22' : 3.2\n",
        "\n",
        "  }\n",
        "\n",
        "]\n",
        "\n",
        "rdd1 = sc.parallelize(dataset1)\n",
        "\n",
        "df1 = spark.createDataFrame(rdd1)\n",
        "\n",
        "print('df1')\n",
        "\n",
        "df1.show()\n",
        "\n",
        "rdd2 = sc.parallelize(dataset2)\n",
        "\n",
        "df2 = spark.createDataFrame(rdd2)\n",
        "\n",
        "print('df2')\n",
        "\n",
        "df2.show()"
      ],
      "execution_count": 60,
      "outputs": [
        {
          "output_type": "stream",
          "text": [
            "/usr/local/lib/python3.6/dist-packages/pyspark/sql/session.py:366: UserWarning: Using RDD of dict to inferSchema is deprecated. Use pyspark.sql.Row instead\n",
            "  warnings.warn(\"Using RDD of dict to inferSchema is deprecated. \"\n"
          ],
          "name": "stderr"
        },
        {
          "output_type": "stream",
          "text": [
            "df1\n",
            "+---+-----+-----+\n",
            "|key|val11|val12|\n",
            "+---+-----+-----+\n",
            "|abc|  1.1|  1.2|\n",
            "|def|  3.0|  3.4|\n",
            "+---+-----+-----+\n",
            "\n",
            "df2\n",
            "+---+-----+-----+\n",
            "|key|val21|val22|\n",
            "+---+-----+-----+\n",
            "|abc|  2.1|  2.2|\n",
            "|xyz|  3.1|  3.2|\n",
            "+---+-----+-----+\n",
            "\n"
          ],
          "name": "stdout"
        }
      ]
    },
    {
      "cell_type": "markdown",
      "metadata": {
        "id": "nT230EeBGkFa",
        "colab_type": "text"
      },
      "source": [
        "**Join works with jdk 1.8**"
      ]
    },
    {
      "cell_type": "code",
      "metadata": {
        "id": "m_CqRNTU1JiJ",
        "colab_type": "code",
        "colab": {}
      },
      "source": [
        "\n",
        "df3=df1.join(df2,on=['key'],how='inner')"
      ],
      "execution_count": 0,
      "outputs": []
    },
    {
      "cell_type": "code",
      "metadata": {
        "id": "2YAxdMN0Gvxn",
        "colab_type": "code",
        "outputId": "2fa82b68-3037-460a-dd10-1f735a6c516f",
        "colab": {
          "base_uri": "https://localhost:8080/",
          "height": 136
        }
      },
      "source": [
        "df1.join(df2,on=['key'],how='left_outer').show()"
      ],
      "execution_count": 62,
      "outputs": [
        {
          "output_type": "stream",
          "text": [
            "+---+-----+-----+-----+-----+\n",
            "|key|val11|val12|val21|val22|\n",
            "+---+-----+-----+-----+-----+\n",
            "|abc|  1.1|  1.2|  2.1|  2.2|\n",
            "|def|  3.0|  3.4| null| null|\n",
            "+---+-----+-----+-----+-----+\n",
            "\n"
          ],
          "name": "stdout"
        }
      ]
    },
    {
      "cell_type": "code",
      "metadata": {
        "id": "XA2ImHA91lQB",
        "colab_type": "code",
        "outputId": "740e661b-83cb-4f77-8757-4a08bfabf757",
        "colab": {
          "base_uri": "https://localhost:8080/",
          "height": 119
        }
      },
      "source": [
        "df3.show()"
      ],
      "execution_count": 63,
      "outputs": [
        {
          "output_type": "stream",
          "text": [
            "+---+-----+-----+-----+-----+\n",
            "|key|val11|val12|val21|val22|\n",
            "+---+-----+-----+-----+-----+\n",
            "|abc|  1.1|  1.2|  2.1|  2.2|\n",
            "+---+-----+-----+-----+-----+\n",
            "\n"
          ],
          "name": "stdout"
        }
      ]
    },
    {
      "cell_type": "code",
      "metadata": {
        "id": "MDK_dmUz1wKB",
        "colab_type": "code",
        "outputId": "712a19c3-46bd-46e1-a13a-7b22b85ac5bf",
        "colab": {
          "base_uri": "https://localhost:8080/",
          "height": 170
        }
      },
      "source": [
        "df1.crossJoin(df2.select(\"key\")).show()"
      ],
      "execution_count": 64,
      "outputs": [
        {
          "output_type": "stream",
          "text": [
            "+---+-----+-----+---+\n",
            "|key|val11|val12|key|\n",
            "+---+-----+-----+---+\n",
            "|abc|  1.1|  1.2|abc|\n",
            "|abc|  1.1|  1.2|xyz|\n",
            "|def|  3.0|  3.4|abc|\n",
            "|def|  3.0|  3.4|xyz|\n",
            "+---+-----+-----+---+\n",
            "\n"
          ],
          "name": "stdout"
        }
      ]
    },
    {
      "cell_type": "code",
      "metadata": {
        "id": "jUpcRRyx390h",
        "colab_type": "code",
        "colab": {}
      },
      "source": [
        "df1.createOrReplaceTempView(\"df1\")"
      ],
      "execution_count": 0,
      "outputs": []
    },
    {
      "cell_type": "code",
      "metadata": {
        "id": "2cliIvrt9ILb",
        "colab_type": "code",
        "colab": {}
      },
      "source": [
        "df2.createOrReplaceTempView(\"df2\")"
      ],
      "execution_count": 0,
      "outputs": []
    },
    {
      "cell_type": "code",
      "metadata": {
        "id": "TLq3ga3Q4UhJ",
        "colab_type": "code",
        "colab": {}
      },
      "source": [
        "df3=spark.sql(\"SELECT df1.key,df1.val11,df2.val21 FROM df1 LEFT JOIN df2 on df1.key==df2.key\")"
      ],
      "execution_count": 0,
      "outputs": []
    },
    {
      "cell_type": "code",
      "metadata": {
        "id": "7pCF9anD6Uni",
        "colab_type": "code",
        "outputId": "f371c9b9-6fa6-43cb-aff7-8ff6c71b093b",
        "colab": {
          "base_uri": "https://localhost:8080/",
          "height": 136
        }
      },
      "source": [
        "df3.show()"
      ],
      "execution_count": 68,
      "outputs": [
        {
          "output_type": "stream",
          "text": [
            "+---+-----+-----+\n",
            "|key|val11|val21|\n",
            "+---+-----+-----+\n",
            "|abc|  1.1|  2.1|\n",
            "|def|  3.0| null|\n",
            "+---+-----+-----+\n",
            "\n"
          ],
          "name": "stdout"
        }
      ]
    },
    {
      "cell_type": "code",
      "metadata": {
        "id": "4AEHK4vG61z6",
        "colab_type": "code",
        "outputId": "8f91375d-4b25-4525-9a02-a2a621356a4b",
        "colab": {
          "base_uri": "https://localhost:8080/",
          "height": 163
        }
      },
      "source": [
        "df4.show()"
      ],
      "execution_count": 69,
      "outputs": [
        {
          "output_type": "error",
          "ename": "NameError",
          "evalue": "ignored",
          "traceback": [
            "\u001b[0;31m---------------------------------------------------------------------------\u001b[0m",
            "\u001b[0;31mNameError\u001b[0m                                 Traceback (most recent call last)",
            "\u001b[0;32m<ipython-input-69-4d37eba09562>\u001b[0m in \u001b[0;36m<module>\u001b[0;34m()\u001b[0m\n\u001b[0;32m----> 1\u001b[0;31m \u001b[0mdf4\u001b[0m\u001b[0;34m.\u001b[0m\u001b[0mshow\u001b[0m\u001b[0;34m(\u001b[0m\u001b[0;34m)\u001b[0m\u001b[0;34m\u001b[0m\u001b[0;34m\u001b[0m\u001b[0m\n\u001b[0m",
            "\u001b[0;31mNameError\u001b[0m: name 'df4' is not defined"
          ]
        }
      ]
    },
    {
      "cell_type": "code",
      "metadata": {
        "id": "qf5gcpjj7xiQ",
        "colab_type": "code",
        "colab": {}
      },
      "source": [
        "!apt-get install openjdk-8-jdk-headless -qq > /dev/null\n",
        "import os\n",
        "os.environ[\"JAVA_HOME\"] = \"/usr/lib/jvm/java-8-openjdk-amd64\"\n",
        "!update-alternatives --set java /usr/lib/jvm/java-8-openjdk-amd64/jre/bin/java\n",
        "!java -version"
      ],
      "execution_count": 0,
      "outputs": []
    },
    {
      "cell_type": "code",
      "metadata": {
        "id": "sldGNtPBEiac",
        "colab_type": "code",
        "colab": {}
      },
      "source": [
        "import subprocess"
      ],
      "execution_count": 0,
      "outputs": []
    },
    {
      "cell_type": "code",
      "metadata": {
        "id": "cmhxBe_oFHlz",
        "colab_type": "code",
        "colab": {}
      },
      "source": [
        "\n",
        "version = subprocess.check_output(['java', '-version'], stderr=subprocess.STDOUT)"
      ],
      "execution_count": 0,
      "outputs": []
    },
    {
      "cell_type": "code",
      "metadata": {
        "id": "QfoisD05FKPt",
        "colab_type": "code",
        "outputId": "c22c447d-59fb-4d01-988d-ffc8fbe4c743",
        "colab": {
          "base_uri": "https://localhost:8080/",
          "height": 54
        }
      },
      "source": [
        "print(version)"
      ],
      "execution_count": 8,
      "outputs": [
        {
          "output_type": "stream",
          "text": [
            "b'openjdk version \"1.8.0_232\"\\nOpenJDK Runtime Environment (build 1.8.0_232-8u232-b09-0ubuntu1~18.04.1-b09)\\nOpenJDK 64-Bit Server VM (build 25.232-b09, mixed mode)\\n'\n"
          ],
          "name": "stdout"
        }
      ]
    },
    {
      "cell_type": "code",
      "metadata": {
        "id": "tN2mMNGeFMyz",
        "colab_type": "code",
        "colab": {}
      },
      "source": [
        ""
      ],
      "execution_count": 0,
      "outputs": []
    },
    {
      "cell_type": "markdown",
      "metadata": {
        "id": "FxxK0bXeIQJp",
        "colab_type": "text"
      },
      "source": [
        "**User Define Function /UDF/lambda**"
      ]
    },
    {
      "cell_type": "code",
      "metadata": {
        "id": "K1jwyQJAIWaL",
        "colab_type": "code",
        "colab": {}
      },
      "source": [
        "func=udf(lambda x:x*5)"
      ],
      "execution_count": 0,
      "outputs": []
    },
    {
      "cell_type": "code",
      "metadata": {
        "id": "NwcJFgPeIh2s",
        "colab_type": "code",
        "outputId": "821c05d9-4581-4a86-d9eb-85ed94acbcbf",
        "colab": {
          "base_uri": "https://localhost:8080/",
          "height": 479
        }
      },
      "source": [
        "df.show()"
      ],
      "execution_count": 71,
      "outputs": [
        {
          "output_type": "stream",
          "text": [
            "+---+--------------------+-------------+----------------+--------------+------+------------+----------+--------+-------+------+------------+-----------+----------+\n",
            "|Sno|           TrackName|   ArtistName|     TypeOfMusic|BeatsPerMinute|Energy|Danceability|LoudnessdB|Liveness|Valence|Length|Acousticness|Speechiness|Popularity|\n",
            "+---+--------------------+-------------+----------------+--------------+------+------------+----------+--------+-------+------+------------+-----------+----------+\n",
            "|  1|            Se�orita| Shawn Mendes|    canadian pop|           117|    55|          76|        -6|       8|     75|   191|           4|          3|        79|\n",
            "|  2|               China|     Anuel AA|  reggaeton flow|           105|    81|          79|        -4|       8|     61|   302|           8|          9|        92|\n",
            "|  3|boyfriend (with S...|Ariana Grande|       dance pop|           190|    80|          40|        -4|      16|     70|   186|          12|         46|        85|\n",
            "|  4|Beautiful People ...|   Ed Sheeran|             pop|            93|    65|          64|        -8|       8|     55|   198|          12|         19|        86|\n",
            "|  5|Goodbyes (Feat. Y...|  Post Malone|         dfw rap|           150|    65|          58|        -4|      11|     18|   175|          45|          7|        94|\n",
            "|  6|I Don't Care (wit...|   Ed Sheeran|             pop|           102|    68|          80|        -5|       9|     84|   220|           9|          4|        84|\n",
            "|  7|              Ransom|    Lil Tecca|      trap music|           180|    64|          75|        -6|       7|     23|   131|           2|         29|        92|\n",
            "|  8|   How Do You Sleep?|    Sam Smith|             pop|           111|    68|          48|        -5|       8|     35|   202|          15|          9|        90|\n",
            "|  9|Old Town Road - R...|    Lil Nas X|     country rap|           136|    62|          88|        -6|      11|     64|   157|           5|         10|        87|\n",
            "| 10|             bad guy|Billie Eilish|      electropop|           135|    43|          70|       -11|      10|     56|   194|          33|         38|        95|\n",
            "| 11|            Callaita|    Bad Bunny|       reggaeton|           176|    62|          61|        -5|      24|     24|   251|          60|         31|        93|\n",
            "| 12|Loco Contigo (fea...|     DJ Snake|       dance pop|            96|    71|          82|        -4|      15|     38|   185|          28|          7|        86|\n",
            "| 13|   Someone You Loved|Lewis Capaldi|             pop|           110|    41|          50|        -6|      11|     45|   182|          75|          3|        88|\n",
            "| 14|  Otro Trago - Remix|         Sech|  panamanian pop|           176|    79|          73|        -2|       6|     76|   288|           7|         20|        87|\n",
            "| 15|Money In The Grav...|        Drake|canadian hip hop|           101|    50|          83|        -4|      12|     10|   205|          10|          5|        92|\n",
            "| 16|No Guidance (feat...|  Chris Brown|       dance pop|            93|    45|          70|        -7|      16|     14|   261|          12|         15|        82|\n",
            "| 17|          LA CANCI�N|     J Balvin|           latin|           176|    65|          75|        -6|      11|     43|   243|          15|         32|        90|\n",
            "| 18|Sunflower - Spide...|  Post Malone|         dfw rap|            90|    48|          76|        -6|       7|     91|   158|          56|          5|        91|\n",
            "| 19|              Lalala|          Y2K|canadian hip hop|           130|    39|          84|        -8|      14|     50|   161|          18|          8|        88|\n",
            "| 20|         Truth Hurts|        Lizzo|     escape room|           158|    62|          72|        -3|      12|     41|   173|          11|         11|        91|\n",
            "+---+--------------------+-------------+----------------+--------------+------+------------+----------+--------+-------+------+------------+-----------+----------+\n",
            "only showing top 20 rows\n",
            "\n"
          ],
          "name": "stdout"
        }
      ]
    },
    {
      "cell_type": "code",
      "metadata": {
        "id": "mCdkLLttInBt",
        "colab_type": "code",
        "outputId": "6d66d1a9-d2eb-46e4-a190-f6cf4dad5e02",
        "colab": {
          "base_uri": "https://localhost:8080/",
          "height": 479
        }
      },
      "source": [
        "df.withColumn(\"BeatsPerMinute\",func(\"BeatsPerMinute\")).show()"
      ],
      "execution_count": 72,
      "outputs": [
        {
          "output_type": "stream",
          "text": [
            "+---+--------------------+-------------+----------------+--------------+------+------------+----------+--------+-------+------+------------+-----------+----------+\n",
            "|Sno|           TrackName|   ArtistName|     TypeOfMusic|BeatsPerMinute|Energy|Danceability|LoudnessdB|Liveness|Valence|Length|Acousticness|Speechiness|Popularity|\n",
            "+---+--------------------+-------------+----------------+--------------+------+------------+----------+--------+-------+------+------------+-----------+----------+\n",
            "|  1|            Se�orita| Shawn Mendes|    canadian pop|           585|    55|          76|        -6|       8|     75|   191|           4|          3|        79|\n",
            "|  2|               China|     Anuel AA|  reggaeton flow|           525|    81|          79|        -4|       8|     61|   302|           8|          9|        92|\n",
            "|  3|boyfriend (with S...|Ariana Grande|       dance pop|           950|    80|          40|        -4|      16|     70|   186|          12|         46|        85|\n",
            "|  4|Beautiful People ...|   Ed Sheeran|             pop|           465|    65|          64|        -8|       8|     55|   198|          12|         19|        86|\n",
            "|  5|Goodbyes (Feat. Y...|  Post Malone|         dfw rap|           750|    65|          58|        -4|      11|     18|   175|          45|          7|        94|\n",
            "|  6|I Don't Care (wit...|   Ed Sheeran|             pop|           510|    68|          80|        -5|       9|     84|   220|           9|          4|        84|\n",
            "|  7|              Ransom|    Lil Tecca|      trap music|           900|    64|          75|        -6|       7|     23|   131|           2|         29|        92|\n",
            "|  8|   How Do You Sleep?|    Sam Smith|             pop|           555|    68|          48|        -5|       8|     35|   202|          15|          9|        90|\n",
            "|  9|Old Town Road - R...|    Lil Nas X|     country rap|           680|    62|          88|        -6|      11|     64|   157|           5|         10|        87|\n",
            "| 10|             bad guy|Billie Eilish|      electropop|           675|    43|          70|       -11|      10|     56|   194|          33|         38|        95|\n",
            "| 11|            Callaita|    Bad Bunny|       reggaeton|           880|    62|          61|        -5|      24|     24|   251|          60|         31|        93|\n",
            "| 12|Loco Contigo (fea...|     DJ Snake|       dance pop|           480|    71|          82|        -4|      15|     38|   185|          28|          7|        86|\n",
            "| 13|   Someone You Loved|Lewis Capaldi|             pop|           550|    41|          50|        -6|      11|     45|   182|          75|          3|        88|\n",
            "| 14|  Otro Trago - Remix|         Sech|  panamanian pop|           880|    79|          73|        -2|       6|     76|   288|           7|         20|        87|\n",
            "| 15|Money In The Grav...|        Drake|canadian hip hop|           505|    50|          83|        -4|      12|     10|   205|          10|          5|        92|\n",
            "| 16|No Guidance (feat...|  Chris Brown|       dance pop|           465|    45|          70|        -7|      16|     14|   261|          12|         15|        82|\n",
            "| 17|          LA CANCI�N|     J Balvin|           latin|           880|    65|          75|        -6|      11|     43|   243|          15|         32|        90|\n",
            "| 18|Sunflower - Spide...|  Post Malone|         dfw rap|           450|    48|          76|        -6|       7|     91|   158|          56|          5|        91|\n",
            "| 19|              Lalala|          Y2K|canadian hip hop|           650|    39|          84|        -8|      14|     50|   161|          18|          8|        88|\n",
            "| 20|         Truth Hurts|        Lizzo|     escape room|           790|    62|          72|        -3|      12|     41|   173|          11|         11|        91|\n",
            "+---+--------------------+-------------+----------------+--------------+------+------------+----------+--------+-------+------+------------+-----------+----------+\n",
            "only showing top 20 rows\n",
            "\n"
          ],
          "name": "stdout"
        }
      ]
    },
    {
      "cell_type": "code",
      "metadata": {
        "id": "go3YwfjmI2UD",
        "colab_type": "code",
        "colab": {}
      },
      "source": [
        "df5=spark.read.format(\"csv\").options(header='true',inferschema='true').load('/content/drive/My Drive/Datasets/employees.csv')\n",
        "\n",
        "#/content/drive/My Drive/top50.csv"
      ],
      "execution_count": 0,
      "outputs": []
    },
    {
      "cell_type": "code",
      "metadata": {
        "id": "aH4iAfM1vA7T",
        "colab_type": "code",
        "outputId": "eb02d51b-71ff-4808-a2d1-f5f9d4e5bb76",
        "colab": {
          "base_uri": "https://localhost:8080/",
          "height": 969
        }
      },
      "source": [
        "df5.show(50)"
      ],
      "execution_count": 74,
      "outputs": [
        {
          "output_type": "stream",
          "text": [
            "+----------+------+----------+---------------+------+-------+-----------------+--------------------+\n",
            "|First Name|Gender|Start Date|Last Login Time|Salary|Bonus %|Senior Management|                Team|\n",
            "+----------+------+----------+---------------+------+-------+-----------------+--------------------+\n",
            "|   Douglas|  Male|  8/6/1993|       12:42 PM| 97308|  6.945|             true|           Marketing|\n",
            "|    Thomas|  Male| 3/31/1996|        6:53 AM| 61933|   4.17|             true|                null|\n",
            "|     Maria|Female| 4/23/1993|       11:17 AM|130590| 11.858|            false|             Finance|\n",
            "|     Jerry|  Male|  3/4/2005|        1:00 PM|138705|   9.34|             true|             Finance|\n",
            "|     Larry|  Male| 1/24/1998|        4:47 PM|101004|  1.389|             true|     Client Services|\n",
            "|    Dennis|  Male| 4/18/1987|        1:35 AM|115163| 10.125|            false|               Legal|\n",
            "|      Ruby|Female| 8/17/1987|        4:20 PM| 65476| 10.012|             true|             Product|\n",
            "|      null|Female| 7/20/2015|       10:43 AM| 45906| 11.598|             null|             Finance|\n",
            "|    Angela|Female|11/22/2005|        6:29 AM| 95570| 18.523|             true|         Engineering|\n",
            "|   Frances|Female|  8/8/2002|        6:51 AM|139852|  7.524|             true|Business Development|\n",
            "|    Louise|Female| 8/12/1980|        9:01 AM| 63241| 15.132|             true|                null|\n",
            "|     Julie|Female|10/26/1997|        3:19 PM|102508| 12.637|             true|               Legal|\n",
            "|   Brandon|  Male| 12/1/1980|        1:08 AM|112807| 17.492|             true|     Human Resources|\n",
            "|      Gary|  Male| 1/27/2008|       11:40 PM|109831|  5.831|            false|               Sales|\n",
            "|  Kimberly|Female| 1/14/1999|        7:13 AM| 41426| 14.543|             true|             Finance|\n",
            "|   Lillian|Female|  6/5/2016|        6:09 AM| 59414|  1.256|            false|             Product|\n",
            "|    Jeremy|  Male| 9/21/2010|        5:56 AM| 90370|  7.369|            false|     Human Resources|\n",
            "|     Shawn|  Male| 12/7/1986|        7:45 PM|111737|  6.414|            false|             Product|\n",
            "|     Diana|Female|10/23/1981|       10:27 AM|132940| 19.082|            false|     Client Services|\n",
            "|     Donna|Female| 7/22/2010|        3:48 AM| 81014|  1.894|            false|             Product|\n",
            "|      Lois|  null| 4/22/1995|        7:18 PM| 64714|  4.934|             true|               Legal|\n",
            "|   Matthew|  Male|  9/5/1995|        2:12 AM|100612| 13.645|            false|           Marketing|\n",
            "|    Joshua|  null|  3/8/2012|        1:58 AM| 90816| 18.816|             true|     Client Services|\n",
            "|      null|  Male| 6/14/2012|        4:19 PM|125792|  5.042|             null|                null|\n",
            "|      John|  Male|  7/1/1992|       10:08 PM| 97950| 13.873|            false|     Client Services|\n",
            "|      null|  Male| 10/8/2012|        1:12 AM| 37076| 18.576|             null|     Client Services|\n",
            "|     Craig|  Male| 2/27/2000|        7:45 AM| 37598|  7.757|             true|           Marketing|\n",
            "|     Scott|  null| 7/11/1991|        6:58 PM|122367|  5.218|            false|               Legal|\n",
            "|     Terry|  Male|11/27/1981|        6:30 PM|124008| 13.464|             true|     Client Services|\n",
            "|  Benjamin|  Male| 1/26/2005|       10:06 PM| 79529|  7.008|             true|               Legal|\n",
            "| Christina|Female|  8/6/2002|        1:19 PM|118780|  9.096|             true|         Engineering|\n",
            "|     Joyce|  null| 2/20/2005|        2:40 PM| 88657| 12.752|            false|             Product|\n",
            "|      null|  Male| 8/21/1998|        2:27 PM|122340|  6.417|             null|                null|\n",
            "|      Jean|Female|12/18/1993|        9:07 AM|119082|  16.18|            false|Business Development|\n",
            "|     Jerry|  Male| 1/10/2004|       12:56 PM| 95734| 19.096|            false|     Client Services|\n",
            "|   Theresa|Female|10/10/2006|        1:12 AM| 85182| 16.675|            false|               Sales|\n",
            "|    Rachel|Female| 2/16/2009|        8:47 PM|142032| 12.599|            false|Business Development|\n",
            "|     Linda|Female|10/19/1981|        8:49 PM| 57427|  9.557|             true|     Client Services|\n",
            "| Stephanie|Female| 9/13/1986|        1:52 AM| 36844|  5.574|             true|Business Development|\n",
            "|      null|  Male| 1/29/2016|        2:33 AM|122173|  7.797|             null|     Client Services|\n",
            "|   Michael|  Male|10/10/2008|       11:25 AM| 99283|  2.665|             true|        Distribution|\n",
            "| Christine|  null| 6/28/2015|        1:08 AM| 66582| 11.308|             true|Business Development|\n",
            "|   Beverly|Female|  9/9/1998|        8:26 PM|121918| 15.835|            false|               Legal|\n",
            "|   Marilyn|Female| 12/7/1980|        3:16 AM| 73524|  5.207|             true|           Marketing|\n",
            "|   Cynthia|Female|11/16/1988|        6:54 PM|145146|  7.482|             true|             Product|\n",
            "|     Roger|  Male| 4/17/1980|       11:32 AM| 88010| 13.886|             true|               Sales|\n",
            "|     Bruce|  Male|11/28/2009|       10:47 PM|114796|  6.796|            false|             Finance|\n",
            "|     Kathy|Female| 6/22/2005|        4:51 AM| 66820|    9.0|             true|     Client Services|\n",
            "|  Clarence|  Male| 3/26/1996|        5:57 AM| 93581|  6.083|             true|Business Development|\n",
            "|     Chris|  null| 1/24/1980|       12:13 PM|113590|  3.055|            false|               Sales|\n",
            "+----------+------+----------+---------------+------+-------+-----------------+--------------------+\n",
            "only showing top 50 rows\n",
            "\n"
          ],
          "name": "stdout"
        }
      ]
    },
    {
      "cell_type": "markdown",
      "metadata": {
        "id": "glKNj-o5yKoU",
        "colab_type": "text"
      },
      "source": [
        "**Drop rows which has null values**"
      ]
    },
    {
      "cell_type": "code",
      "metadata": {
        "id": "go28wfxcvCog",
        "colab_type": "code",
        "outputId": "d80478ab-220c-406a-a6e2-235b853cbf1a",
        "colab": {
          "base_uri": "https://localhost:8080/",
          "height": 459
        }
      },
      "source": [
        "\n",
        "#df.filter(df.col_X.isNotNull())\n",
        "#df.select([count(when(isnull(c), c)).alias(c) for c in df.columns]).show()\n",
        "df5.na.drop(subset=[i for i in df5.columns]).show()"
      ],
      "execution_count": 75,
      "outputs": [
        {
          "output_type": "stream",
          "text": [
            "+----------+------+----------+---------------+------+-------+-----------------+--------------------+\n",
            "|First Name|Gender|Start Date|Last Login Time|Salary|Bonus %|Senior Management|                Team|\n",
            "+----------+------+----------+---------------+------+-------+-----------------+--------------------+\n",
            "|   Douglas|  Male|  8/6/1993|       12:42 PM| 97308|  6.945|             true|           Marketing|\n",
            "|     Maria|Female| 4/23/1993|       11:17 AM|130590| 11.858|            false|             Finance|\n",
            "|     Jerry|  Male|  3/4/2005|        1:00 PM|138705|   9.34|             true|             Finance|\n",
            "|     Larry|  Male| 1/24/1998|        4:47 PM|101004|  1.389|             true|     Client Services|\n",
            "|    Dennis|  Male| 4/18/1987|        1:35 AM|115163| 10.125|            false|               Legal|\n",
            "|      Ruby|Female| 8/17/1987|        4:20 PM| 65476| 10.012|             true|             Product|\n",
            "|    Angela|Female|11/22/2005|        6:29 AM| 95570| 18.523|             true|         Engineering|\n",
            "|   Frances|Female|  8/8/2002|        6:51 AM|139852|  7.524|             true|Business Development|\n",
            "|     Julie|Female|10/26/1997|        3:19 PM|102508| 12.637|             true|               Legal|\n",
            "|   Brandon|  Male| 12/1/1980|        1:08 AM|112807| 17.492|             true|     Human Resources|\n",
            "|      Gary|  Male| 1/27/2008|       11:40 PM|109831|  5.831|            false|               Sales|\n",
            "|  Kimberly|Female| 1/14/1999|        7:13 AM| 41426| 14.543|             true|             Finance|\n",
            "|   Lillian|Female|  6/5/2016|        6:09 AM| 59414|  1.256|            false|             Product|\n",
            "|    Jeremy|  Male| 9/21/2010|        5:56 AM| 90370|  7.369|            false|     Human Resources|\n",
            "|     Shawn|  Male| 12/7/1986|        7:45 PM|111737|  6.414|            false|             Product|\n",
            "|     Diana|Female|10/23/1981|       10:27 AM|132940| 19.082|            false|     Client Services|\n",
            "|     Donna|Female| 7/22/2010|        3:48 AM| 81014|  1.894|            false|             Product|\n",
            "|   Matthew|  Male|  9/5/1995|        2:12 AM|100612| 13.645|            false|           Marketing|\n",
            "|      John|  Male|  7/1/1992|       10:08 PM| 97950| 13.873|            false|     Client Services|\n",
            "|     Craig|  Male| 2/27/2000|        7:45 AM| 37598|  7.757|             true|           Marketing|\n",
            "+----------+------+----------+---------------+------+-------+-----------------+--------------------+\n",
            "only showing top 20 rows\n",
            "\n"
          ],
          "name": "stdout"
        }
      ]
    },
    {
      "cell_type": "markdown",
      "metadata": {
        "id": "GznfHJPDzA1W",
        "colab_type": "text"
      },
      "source": [
        "**Drop rows if particular colummn has got null values**"
      ]
    },
    {
      "cell_type": "code",
      "metadata": {
        "id": "nPIW0jopxUGU",
        "colab_type": "code",
        "outputId": "00fce070-8434-4206-b8cf-8bc663c77ce2",
        "colab": {
          "base_uri": "https://localhost:8080/",
          "height": 459
        }
      },
      "source": [
        "df5.na.drop(subset=[\"Team\"]).show()"
      ],
      "execution_count": 76,
      "outputs": [
        {
          "output_type": "stream",
          "text": [
            "+----------+------+----------+---------------+------+-------+-----------------+--------------------+\n",
            "|First Name|Gender|Start Date|Last Login Time|Salary|Bonus %|Senior Management|                Team|\n",
            "+----------+------+----------+---------------+------+-------+-----------------+--------------------+\n",
            "|   Douglas|  Male|  8/6/1993|       12:42 PM| 97308|  6.945|             true|           Marketing|\n",
            "|     Maria|Female| 4/23/1993|       11:17 AM|130590| 11.858|            false|             Finance|\n",
            "|     Jerry|  Male|  3/4/2005|        1:00 PM|138705|   9.34|             true|             Finance|\n",
            "|     Larry|  Male| 1/24/1998|        4:47 PM|101004|  1.389|             true|     Client Services|\n",
            "|    Dennis|  Male| 4/18/1987|        1:35 AM|115163| 10.125|            false|               Legal|\n",
            "|      Ruby|Female| 8/17/1987|        4:20 PM| 65476| 10.012|             true|             Product|\n",
            "|      null|Female| 7/20/2015|       10:43 AM| 45906| 11.598|             null|             Finance|\n",
            "|    Angela|Female|11/22/2005|        6:29 AM| 95570| 18.523|             true|         Engineering|\n",
            "|   Frances|Female|  8/8/2002|        6:51 AM|139852|  7.524|             true|Business Development|\n",
            "|     Julie|Female|10/26/1997|        3:19 PM|102508| 12.637|             true|               Legal|\n",
            "|   Brandon|  Male| 12/1/1980|        1:08 AM|112807| 17.492|             true|     Human Resources|\n",
            "|      Gary|  Male| 1/27/2008|       11:40 PM|109831|  5.831|            false|               Sales|\n",
            "|  Kimberly|Female| 1/14/1999|        7:13 AM| 41426| 14.543|             true|             Finance|\n",
            "|   Lillian|Female|  6/5/2016|        6:09 AM| 59414|  1.256|            false|             Product|\n",
            "|    Jeremy|  Male| 9/21/2010|        5:56 AM| 90370|  7.369|            false|     Human Resources|\n",
            "|     Shawn|  Male| 12/7/1986|        7:45 PM|111737|  6.414|            false|             Product|\n",
            "|     Diana|Female|10/23/1981|       10:27 AM|132940| 19.082|            false|     Client Services|\n",
            "|     Donna|Female| 7/22/2010|        3:48 AM| 81014|  1.894|            false|             Product|\n",
            "|      Lois|  null| 4/22/1995|        7:18 PM| 64714|  4.934|             true|               Legal|\n",
            "|   Matthew|  Male|  9/5/1995|        2:12 AM|100612| 13.645|            false|           Marketing|\n",
            "+----------+------+----------+---------------+------+-------+-----------------+--------------------+\n",
            "only showing top 20 rows\n",
            "\n"
          ],
          "name": "stdout"
        }
      ]
    },
    {
      "cell_type": "code",
      "metadata": {
        "id": "mC5Cv90Zylq4",
        "colab_type": "code",
        "colab": {
          "base_uri": "https://localhost:8080/",
          "height": 54
        },
        "outputId": "1175f233-fd06-4c16-93f9-98b3b71e5d80"
      },
      "source": [
        "df5.na.drop(subset=[\"Team\"])"
      ],
      "execution_count": 77,
      "outputs": [
        {
          "output_type": "execute_result",
          "data": {
            "text/plain": [
              "DataFrame[First Name: string, Gender: string, Start Date: string, Last Login Time: string, Salary: int, Bonus %: double, Senior Management: boolean, Team: string]"
            ]
          },
          "metadata": {
            "tags": []
          },
          "execution_count": 77
        }
      ]
    },
    {
      "cell_type": "markdown",
      "metadata": {
        "id": "YWrawsmZ_YFz",
        "colab_type": "text"
      },
      "source": [
        "**Rows which contain null values**"
      ]
    },
    {
      "cell_type": "code",
      "metadata": {
        "id": "rR7VBGZ_-ayG",
        "colab_type": "code",
        "colab": {}
      },
      "source": [
        "dataframe_withNoNull=df5.na.drop(subset=[i for i in df5.columns])"
      ],
      "execution_count": 0,
      "outputs": []
    },
    {
      "cell_type": "code",
      "metadata": {
        "id": "XMthc7zc_Ke0",
        "colab_type": "code",
        "colab": {
          "base_uri": "https://localhost:8080/",
          "height": 459
        },
        "outputId": "a1e7f386-95e6-433e-8469-a6c261be479c"
      },
      "source": [
        "df5.exceptAll(dataframe_withNoNull).show()"
      ],
      "execution_count": 79,
      "outputs": [
        {
          "output_type": "stream",
          "text": [
            "+----------+------+----------+---------------+------+-------+-----------------+--------------------+\n",
            "|First Name|Gender|Start Date|Last Login Time|Salary|Bonus %|Senior Management|                Team|\n",
            "+----------+------+----------+---------------+------+-------+-----------------+--------------------+\n",
            "|   Marilyn|  null| 8/22/1999|        9:09 AM|103386| 11.451|            false|        Distribution|\n",
            "|      null|Female| 9/18/2002|       12:39 PM|118906|  4.537|             null|           Marketing|\n",
            "|   Brandon|  null| 5/31/2004|        3:36 PM| 73587|  9.769|             true|     Human Resources|\n",
            "|   Antonio|  null| 6/18/1989|        9:37 PM|103050|   3.05|            false|               Legal|\n",
            "|     Billy|  null| 3/16/2004|        8:21 AM| 62913| 18.241|             true|           Marketing|\n",
            "|  Nicholas|  null|  9/9/1989|        7:12 PM| 58478|  6.525|             true|        Distribution|\n",
            "|       Amy|  null| 5/19/1984|       11:47 AM|102839| 10.385|             true|        Distribution|\n",
            "| Christine|  null| 6/15/1980|        6:00 PM| 50366|  9.862|             true|           Marketing|\n",
            "|    Brenda|  null| 5/29/1991|        6:32 AM| 82439| 19.062|            false|               Sales|\n",
            "|   Phillip|  null|10/20/2003|       11:09 AM| 89700|  2.277|             true|                null|\n",
            "|      null|  Male| 2/21/1995|       12:26 AM|136602| 10.429|             null|           Marketing|\n",
            "|     Louis|  null|  2/5/1983|        6:39 PM|145274| 16.379|            false|             Product|\n",
            "| Christine|  null| 6/28/2015|        1:08 AM| 66582| 11.308|             true|Business Development|\n",
            "|    Janice|  null|11/19/1991|        6:02 PM|139791| 16.968|            false|Business Development|\n",
            "|   Cynthia|  null|11/19/1996|       10:40 PM|107816| 18.751|            false|           Marketing|\n",
            "|      null|  Male| 5/23/2001|        7:52 PM|103877|  6.322|             null|        Distribution|\n",
            "|      null|Female| 4/27/2013|        6:40 AM| 93847|  1.085|             null|Business Development|\n",
            "|    Gerald|  null|  1/8/1992|        3:50 PM|133366| 12.292|            false|               Legal|\n",
            "|    George|  null| 2/24/1988|       11:29 AM| 38375|  8.999|            false|               Legal|\n",
            "|     Jimmy|  null| 8/26/1983|        2:48 AM| 86676|  7.175|             true|             Product|\n",
            "+----------+------+----------+---------------+------+-------+-----------------+--------------------+\n",
            "only showing top 20 rows\n",
            "\n"
          ],
          "name": "stdout"
        }
      ]
    },
    {
      "cell_type": "markdown",
      "metadata": {
        "id": "vpuf8naH_23U",
        "colab_type": "text"
      },
      "source": [
        "**Add Columns filles with 1**"
      ]
    },
    {
      "cell_type": "code",
      "metadata": {
        "id": "EGpxkDIJ_TN4",
        "colab_type": "code",
        "colab": {
          "base_uri": "https://localhost:8080/",
          "height": 479
        },
        "outputId": "2f3ff864-edcf-4e59-e2a4-884b31aa3a9a"
      },
      "source": [
        "df.show()"
      ],
      "execution_count": 80,
      "outputs": [
        {
          "output_type": "stream",
          "text": [
            "+---+--------------------+-------------+----------------+--------------+------+------------+----------+--------+-------+------+------------+-----------+----------+\n",
            "|Sno|           TrackName|   ArtistName|     TypeOfMusic|BeatsPerMinute|Energy|Danceability|LoudnessdB|Liveness|Valence|Length|Acousticness|Speechiness|Popularity|\n",
            "+---+--------------------+-------------+----------------+--------------+------+------------+----------+--------+-------+------+------------+-----------+----------+\n",
            "|  1|            Se�orita| Shawn Mendes|    canadian pop|           117|    55|          76|        -6|       8|     75|   191|           4|          3|        79|\n",
            "|  2|               China|     Anuel AA|  reggaeton flow|           105|    81|          79|        -4|       8|     61|   302|           8|          9|        92|\n",
            "|  3|boyfriend (with S...|Ariana Grande|       dance pop|           190|    80|          40|        -4|      16|     70|   186|          12|         46|        85|\n",
            "|  4|Beautiful People ...|   Ed Sheeran|             pop|            93|    65|          64|        -8|       8|     55|   198|          12|         19|        86|\n",
            "|  5|Goodbyes (Feat. Y...|  Post Malone|         dfw rap|           150|    65|          58|        -4|      11|     18|   175|          45|          7|        94|\n",
            "|  6|I Don't Care (wit...|   Ed Sheeran|             pop|           102|    68|          80|        -5|       9|     84|   220|           9|          4|        84|\n",
            "|  7|              Ransom|    Lil Tecca|      trap music|           180|    64|          75|        -6|       7|     23|   131|           2|         29|        92|\n",
            "|  8|   How Do You Sleep?|    Sam Smith|             pop|           111|    68|          48|        -5|       8|     35|   202|          15|          9|        90|\n",
            "|  9|Old Town Road - R...|    Lil Nas X|     country rap|           136|    62|          88|        -6|      11|     64|   157|           5|         10|        87|\n",
            "| 10|             bad guy|Billie Eilish|      electropop|           135|    43|          70|       -11|      10|     56|   194|          33|         38|        95|\n",
            "| 11|            Callaita|    Bad Bunny|       reggaeton|           176|    62|          61|        -5|      24|     24|   251|          60|         31|        93|\n",
            "| 12|Loco Contigo (fea...|     DJ Snake|       dance pop|            96|    71|          82|        -4|      15|     38|   185|          28|          7|        86|\n",
            "| 13|   Someone You Loved|Lewis Capaldi|             pop|           110|    41|          50|        -6|      11|     45|   182|          75|          3|        88|\n",
            "| 14|  Otro Trago - Remix|         Sech|  panamanian pop|           176|    79|          73|        -2|       6|     76|   288|           7|         20|        87|\n",
            "| 15|Money In The Grav...|        Drake|canadian hip hop|           101|    50|          83|        -4|      12|     10|   205|          10|          5|        92|\n",
            "| 16|No Guidance (feat...|  Chris Brown|       dance pop|            93|    45|          70|        -7|      16|     14|   261|          12|         15|        82|\n",
            "| 17|          LA CANCI�N|     J Balvin|           latin|           176|    65|          75|        -6|      11|     43|   243|          15|         32|        90|\n",
            "| 18|Sunflower - Spide...|  Post Malone|         dfw rap|            90|    48|          76|        -6|       7|     91|   158|          56|          5|        91|\n",
            "| 19|              Lalala|          Y2K|canadian hip hop|           130|    39|          84|        -8|      14|     50|   161|          18|          8|        88|\n",
            "| 20|         Truth Hurts|        Lizzo|     escape room|           158|    62|          72|        -3|      12|     41|   173|          11|         11|        91|\n",
            "+---+--------------------+-------------+----------------+--------------+------+------------+----------+--------+-------+------+------------+-----------+----------+\n",
            "only showing top 20 rows\n",
            "\n"
          ],
          "name": "stdout"
        }
      ]
    },
    {
      "cell_type": "code",
      "metadata": {
        "id": "tEvC1vMd_zzU",
        "colab_type": "code",
        "colab": {
          "base_uri": "https://localhost:8080/",
          "height": 479
        },
        "outputId": "d4545051-8c22-435b-8699-42e0a67076d4"
      },
      "source": [
        "df.withColumn(\"new_Column\",lit(1)).show()"
      ],
      "execution_count": 81,
      "outputs": [
        {
          "output_type": "stream",
          "text": [
            "+---+--------------------+-------------+----------------+--------------+------+------------+----------+--------+-------+------+------------+-----------+----------+----------+\n",
            "|Sno|           TrackName|   ArtistName|     TypeOfMusic|BeatsPerMinute|Energy|Danceability|LoudnessdB|Liveness|Valence|Length|Acousticness|Speechiness|Popularity|new_Column|\n",
            "+---+--------------------+-------------+----------------+--------------+------+------------+----------+--------+-------+------+------------+-----------+----------+----------+\n",
            "|  1|            Se�orita| Shawn Mendes|    canadian pop|           117|    55|          76|        -6|       8|     75|   191|           4|          3|        79|         1|\n",
            "|  2|               China|     Anuel AA|  reggaeton flow|           105|    81|          79|        -4|       8|     61|   302|           8|          9|        92|         1|\n",
            "|  3|boyfriend (with S...|Ariana Grande|       dance pop|           190|    80|          40|        -4|      16|     70|   186|          12|         46|        85|         1|\n",
            "|  4|Beautiful People ...|   Ed Sheeran|             pop|            93|    65|          64|        -8|       8|     55|   198|          12|         19|        86|         1|\n",
            "|  5|Goodbyes (Feat. Y...|  Post Malone|         dfw rap|           150|    65|          58|        -4|      11|     18|   175|          45|          7|        94|         1|\n",
            "|  6|I Don't Care (wit...|   Ed Sheeran|             pop|           102|    68|          80|        -5|       9|     84|   220|           9|          4|        84|         1|\n",
            "|  7|              Ransom|    Lil Tecca|      trap music|           180|    64|          75|        -6|       7|     23|   131|           2|         29|        92|         1|\n",
            "|  8|   How Do You Sleep?|    Sam Smith|             pop|           111|    68|          48|        -5|       8|     35|   202|          15|          9|        90|         1|\n",
            "|  9|Old Town Road - R...|    Lil Nas X|     country rap|           136|    62|          88|        -6|      11|     64|   157|           5|         10|        87|         1|\n",
            "| 10|             bad guy|Billie Eilish|      electropop|           135|    43|          70|       -11|      10|     56|   194|          33|         38|        95|         1|\n",
            "| 11|            Callaita|    Bad Bunny|       reggaeton|           176|    62|          61|        -5|      24|     24|   251|          60|         31|        93|         1|\n",
            "| 12|Loco Contigo (fea...|     DJ Snake|       dance pop|            96|    71|          82|        -4|      15|     38|   185|          28|          7|        86|         1|\n",
            "| 13|   Someone You Loved|Lewis Capaldi|             pop|           110|    41|          50|        -6|      11|     45|   182|          75|          3|        88|         1|\n",
            "| 14|  Otro Trago - Remix|         Sech|  panamanian pop|           176|    79|          73|        -2|       6|     76|   288|           7|         20|        87|         1|\n",
            "| 15|Money In The Grav...|        Drake|canadian hip hop|           101|    50|          83|        -4|      12|     10|   205|          10|          5|        92|         1|\n",
            "| 16|No Guidance (feat...|  Chris Brown|       dance pop|            93|    45|          70|        -7|      16|     14|   261|          12|         15|        82|         1|\n",
            "| 17|          LA CANCI�N|     J Balvin|           latin|           176|    65|          75|        -6|      11|     43|   243|          15|         32|        90|         1|\n",
            "| 18|Sunflower - Spide...|  Post Malone|         dfw rap|            90|    48|          76|        -6|       7|     91|   158|          56|          5|        91|         1|\n",
            "| 19|              Lalala|          Y2K|canadian hip hop|           130|    39|          84|        -8|      14|     50|   161|          18|          8|        88|         1|\n",
            "| 20|         Truth Hurts|        Lizzo|     escape room|           158|    62|          72|        -3|      12|     41|   173|          11|         11|        91|         1|\n",
            "+---+--------------------+-------------+----------------+--------------+------+------------+----------+--------+-------+------+------------+-----------+----------+----------+\n",
            "only showing top 20 rows\n",
            "\n"
          ],
          "name": "stdout"
        }
      ]
    },
    {
      "cell_type": "markdown",
      "metadata": {
        "id": "XURsFONYAK90",
        "colab_type": "text"
      },
      "source": [
        "**Add column from existing column**"
      ]
    },
    {
      "cell_type": "code",
      "metadata": {
        "id": "QapSSm9RABU7",
        "colab_type": "code",
        "colab": {
          "base_uri": "https://localhost:8080/",
          "height": 479
        },
        "outputId": "c6119699-95b6-4e40-fbba-b250642024d5"
      },
      "source": [
        "df.withColumn(\"10timeS_Beat\",col(\"BeatsPerMinute\")*10).show()"
      ],
      "execution_count": 82,
      "outputs": [
        {
          "output_type": "stream",
          "text": [
            "+---+--------------------+-------------+----------------+--------------+------+------------+----------+--------+-------+------+------------+-----------+----------+------------+\n",
            "|Sno|           TrackName|   ArtistName|     TypeOfMusic|BeatsPerMinute|Energy|Danceability|LoudnessdB|Liveness|Valence|Length|Acousticness|Speechiness|Popularity|10timeS_Beat|\n",
            "+---+--------------------+-------------+----------------+--------------+------+------------+----------+--------+-------+------+------------+-----------+----------+------------+\n",
            "|  1|            Se�orita| Shawn Mendes|    canadian pop|           117|    55|          76|        -6|       8|     75|   191|           4|          3|        79|        1170|\n",
            "|  2|               China|     Anuel AA|  reggaeton flow|           105|    81|          79|        -4|       8|     61|   302|           8|          9|        92|        1050|\n",
            "|  3|boyfriend (with S...|Ariana Grande|       dance pop|           190|    80|          40|        -4|      16|     70|   186|          12|         46|        85|        1900|\n",
            "|  4|Beautiful People ...|   Ed Sheeran|             pop|            93|    65|          64|        -8|       8|     55|   198|          12|         19|        86|         930|\n",
            "|  5|Goodbyes (Feat. Y...|  Post Malone|         dfw rap|           150|    65|          58|        -4|      11|     18|   175|          45|          7|        94|        1500|\n",
            "|  6|I Don't Care (wit...|   Ed Sheeran|             pop|           102|    68|          80|        -5|       9|     84|   220|           9|          4|        84|        1020|\n",
            "|  7|              Ransom|    Lil Tecca|      trap music|           180|    64|          75|        -6|       7|     23|   131|           2|         29|        92|        1800|\n",
            "|  8|   How Do You Sleep?|    Sam Smith|             pop|           111|    68|          48|        -5|       8|     35|   202|          15|          9|        90|        1110|\n",
            "|  9|Old Town Road - R...|    Lil Nas X|     country rap|           136|    62|          88|        -6|      11|     64|   157|           5|         10|        87|        1360|\n",
            "| 10|             bad guy|Billie Eilish|      electropop|           135|    43|          70|       -11|      10|     56|   194|          33|         38|        95|        1350|\n",
            "| 11|            Callaita|    Bad Bunny|       reggaeton|           176|    62|          61|        -5|      24|     24|   251|          60|         31|        93|        1760|\n",
            "| 12|Loco Contigo (fea...|     DJ Snake|       dance pop|            96|    71|          82|        -4|      15|     38|   185|          28|          7|        86|         960|\n",
            "| 13|   Someone You Loved|Lewis Capaldi|             pop|           110|    41|          50|        -6|      11|     45|   182|          75|          3|        88|        1100|\n",
            "| 14|  Otro Trago - Remix|         Sech|  panamanian pop|           176|    79|          73|        -2|       6|     76|   288|           7|         20|        87|        1760|\n",
            "| 15|Money In The Grav...|        Drake|canadian hip hop|           101|    50|          83|        -4|      12|     10|   205|          10|          5|        92|        1010|\n",
            "| 16|No Guidance (feat...|  Chris Brown|       dance pop|            93|    45|          70|        -7|      16|     14|   261|          12|         15|        82|         930|\n",
            "| 17|          LA CANCI�N|     J Balvin|           latin|           176|    65|          75|        -6|      11|     43|   243|          15|         32|        90|        1760|\n",
            "| 18|Sunflower - Spide...|  Post Malone|         dfw rap|            90|    48|          76|        -6|       7|     91|   158|          56|          5|        91|         900|\n",
            "| 19|              Lalala|          Y2K|canadian hip hop|           130|    39|          84|        -8|      14|     50|   161|          18|          8|        88|        1300|\n",
            "| 20|         Truth Hurts|        Lizzo|     escape room|           158|    62|          72|        -3|      12|     41|   173|          11|         11|        91|        1580|\n",
            "+---+--------------------+-------------+----------------+--------------+------+------------+----------+--------+-------+------+------------+-----------+----------+------------+\n",
            "only showing top 20 rows\n",
            "\n"
          ],
          "name": "stdout"
        }
      ]
    },
    {
      "cell_type": "markdown",
      "metadata": {
        "id": "rWT760E8A5bJ",
        "colab_type": "text"
      },
      "source": [
        "**Value_Counts/ Groupby/ Aggregate/Count/Order BY/Ascending/Descending/Arrange**"
      ]
    },
    {
      "cell_type": "code",
      "metadata": {
        "id": "6mpBQoAKAYzL",
        "colab_type": "code",
        "colab": {
          "base_uri": "https://localhost:8080/",
          "height": 459
        },
        "outputId": "12f5a50d-d4a6-4e7b-a83b-7009971594db"
      },
      "source": [
        "df.groupby(\"TypeOfMusic\").agg(count(\"TypeOfMusic\").alias(\"Countt\")).orderBy(desc(\"Countt\")).show()"
      ],
      "execution_count": 87,
      "outputs": [
        {
          "output_type": "stream",
          "text": [
            "+----------------+------+\n",
            "|     TypeOfMusic|Countt|\n",
            "+----------------+------+\n",
            "|       dance pop|     8|\n",
            "|             pop|     7|\n",
            "|           latin|     5|\n",
            "|             edm|     3|\n",
            "|canadian hip hop|     3|\n",
            "|      electropop|     2|\n",
            "|         brostep|     2|\n",
            "|         dfw rap|     2|\n",
            "|       reggaeton|     2|\n",
            "|    canadian pop|     2|\n",
            "|  reggaeton flow|     2|\n",
            "|  panamanian pop|     2|\n",
            "|     country rap|     2|\n",
            "|        boy band|     1|\n",
            "|        big room|     1|\n",
            "|       pop house|     1|\n",
            "|  r&b en espanol|     1|\n",
            "|      trap music|     1|\n",
            "|  australian pop|     1|\n",
            "|     atl hip hop|     1|\n",
            "+----------------+------+\n",
            "only showing top 20 rows\n",
            "\n"
          ],
          "name": "stdout"
        }
      ]
    },
    {
      "cell_type": "code",
      "metadata": {
        "id": "jLhFiYGQAtyU",
        "colab_type": "code",
        "colab": {
          "base_uri": "https://localhost:8080/",
          "height": 221
        },
        "outputId": "ceadc4d5-e553-40d6-e019-09f8b425adf8"
      },
      "source": [
        "df.filter(col(\"TypeOfMusic\")==\"pop\").show()"
      ],
      "execution_count": 89,
      "outputs": [
        {
          "output_type": "stream",
          "text": [
            "+---+--------------------+-------------+-----------+--------------+------+------------+----------+--------+-------+------+------------+-----------+----------+\n",
            "|Sno|           TrackName|   ArtistName|TypeOfMusic|BeatsPerMinute|Energy|Danceability|LoudnessdB|Liveness|Valence|Length|Acousticness|Speechiness|Popularity|\n",
            "+---+--------------------+-------------+-----------+--------------+------+------------+----------+--------+-------+------+------------+-----------+----------+\n",
            "|  4|Beautiful People ...|   Ed Sheeran|        pop|            93|    65|          64|        -8|       8|     55|   198|          12|         19|        86|\n",
            "|  6|I Don't Care (wit...|   Ed Sheeran|        pop|           102|    68|          80|        -5|       9|     84|   220|           9|          4|        84|\n",
            "|  8|   How Do You Sleep?|    Sam Smith|        pop|           111|    68|          48|        -5|       8|     35|   202|          15|          9|        90|\n",
            "| 13|   Someone You Loved|Lewis Capaldi|        pop|           110|    41|          50|        -6|      11|     45|   182|          75|          3|        88|\n",
            "| 38|Antisocial (with ...|   Ed Sheeran|        pop|           152|    82|          72|        -5|      36|     91|   162|          13|          5|        87|\n",
            "| 44|                Talk|       Khalid|        pop|           136|    40|          90|        -9|       6|     35|   198|           5|         13|        84|\n",
            "| 50|Cross Me (feat. C...|   Ed Sheeran|        pop|            95|    79|          75|        -6|       7|     61|   206|          21|         12|        82|\n",
            "+---+--------------------+-------------+-----------+--------------+------+------------+----------+--------+-------+------+------------+-----------+----------+\n",
            "\n"
          ],
          "name": "stdout"
        }
      ]
    },
    {
      "cell_type": "code",
      "metadata": {
        "id": "WXNnm0XoCvTr",
        "colab_type": "code",
        "colab": {}
      },
      "source": [
        "df.createOrReplaceTempView(\"df\")"
      ],
      "execution_count": 0,
      "outputs": []
    },
    {
      "cell_type": "markdown",
      "metadata": {
        "id": "OM_3ap-eC4xz",
        "colab_type": "text"
      },
      "source": [
        "**Filter using spark sql**"
      ]
    },
    {
      "cell_type": "code",
      "metadata": {
        "id": "QgQ1ZPklB7EE",
        "colab_type": "code",
        "colab": {
          "base_uri": "https://localhost:8080/",
          "height": 221
        },
        "outputId": "cac8a93d-2ecd-4fb7-8d38-919244b82380"
      },
      "source": [
        "spark.sql(\"SELECT * FROM df WHERE df.TypeOfMusic='pop'\").show()"
      ],
      "execution_count": 95,
      "outputs": [
        {
          "output_type": "stream",
          "text": [
            "+---+--------------------+-------------+-----------+--------------+------+------------+----------+--------+-------+------+------------+-----------+----------+\n",
            "|Sno|           TrackName|   ArtistName|TypeOfMusic|BeatsPerMinute|Energy|Danceability|LoudnessdB|Liveness|Valence|Length|Acousticness|Speechiness|Popularity|\n",
            "+---+--------------------+-------------+-----------+--------------+------+------------+----------+--------+-------+------+------------+-----------+----------+\n",
            "|  4|Beautiful People ...|   Ed Sheeran|        pop|            93|    65|          64|        -8|       8|     55|   198|          12|         19|        86|\n",
            "|  6|I Don't Care (wit...|   Ed Sheeran|        pop|           102|    68|          80|        -5|       9|     84|   220|           9|          4|        84|\n",
            "|  8|   How Do You Sleep?|    Sam Smith|        pop|           111|    68|          48|        -5|       8|     35|   202|          15|          9|        90|\n",
            "| 13|   Someone You Loved|Lewis Capaldi|        pop|           110|    41|          50|        -6|      11|     45|   182|          75|          3|        88|\n",
            "| 38|Antisocial (with ...|   Ed Sheeran|        pop|           152|    82|          72|        -5|      36|     91|   162|          13|          5|        87|\n",
            "| 44|                Talk|       Khalid|        pop|           136|    40|          90|        -9|       6|     35|   198|           5|         13|        84|\n",
            "| 50|Cross Me (feat. C...|   Ed Sheeran|        pop|            95|    79|          75|        -6|       7|     61|   206|          21|         12|        82|\n",
            "+---+--------------------+-------------+-----------+--------------+------+------------+----------+--------+-------+------+------------+-----------+----------+\n",
            "\n"
          ],
          "name": "stdout"
        }
      ]
    },
    {
      "cell_type": "code",
      "metadata": {
        "id": "33cK8ySmCjS6",
        "colab_type": "code",
        "colab": {}
      },
      "source": [
        ""
      ],
      "execution_count": 0,
      "outputs": []
    }
  ]
}